{
  "nbformat": 4,
  "nbformat_minor": 0,
  "metadata": {
    "colab": {
      "name": "Google Store App Rating Prediction.ipynb",
      "provenance": [],
      "collapsed_sections": [],
      "authorship_tag": "ABX9TyOOXX6rzi0UItvkVYTLku6d",
      "include_colab_link": true
    },
    "kernelspec": {
      "name": "python3",
      "display_name": "Python 3"
    }
  },
  "cells": [
    {
      "cell_type": "markdown",
      "metadata": {
        "id": "view-in-github",
        "colab_type": "text"
      },
      "source": [
        "<a href=\"https://colab.research.google.com/github/sivasaiyadav8143/Machine_Learning_Projects/blob/main/Google_Store_App_Rating_Prediction.ipynb\" target=\"_parent\"><img src=\"https://colab.research.google.com/assets/colab-badge.svg\" alt=\"Open In Colab\"/></a>"
      ]
    },
    {
      "cell_type": "markdown",
      "metadata": {
        "id": "_q3RJoS6OdXS"
      },
      "source": [
        "# Google Store App Rating Prediction"
      ]
    },
    {
      "cell_type": "markdown",
      "metadata": {
        "id": "VnG_P-4kOhKt"
      },
      "source": [
        "## Problem statement\n",
        "\n",
        "The Play Store apps data has enormous potential to drive app-making businesses to success. However, many apps are being developed every single day and only a few of them become profitable. It is important for developers to be able to predict the success of their app and incorporate features which makes an app successful. We can collect app data and user ratings from the app stores and use it to extract insightful information. A machine learning model can be used to predict rating for a given app, which can be used to estimate success and scope of improvement.\n",
        "\n",
        "As part of this exercise we will try to predict rating for an app given features like size, number of downloads, etc."
      ]
    },
    {
      "cell_type": "markdown",
      "metadata": {
        "id": "IfGUV-0DOs2x"
      },
      "source": [
        "## Data Set Information\n",
        "\n",
        "\n",
        "Shape - 10841 entries and 13 columns\n",
        "\n",
        "Attributes -\n",
        "\n",
        "App: Application name\n",
        "\n",
        "Category: Category the app belongs to\n",
        "\n",
        "Rating: Overall user rating of the app\n",
        "\n",
        "Reviews: Number of user reviews for the app\n",
        "\n",
        "Size: Size of the app\n",
        "\n",
        "Installs: Number of user downloads/installs for the app\n",
        "\n",
        "Type: Paid or Free\n",
        "\n",
        "Price: Price of the app\n",
        "\n",
        "Content Rating: Age group the app is targeted at - Children / Mature 21+ / Adult\n",
        "\n",
        "Genres: An app can belong to multiple genres (apart from its main category). For eg, a musical family game will belong to Music, Game, Family genres.\n",
        "\n",
        "Last Updated: Date when the app was last updated on Play Store\n",
        "\n",
        "Current Ver: Current version of the app available on Play Store\n",
        "\n",
        "Android Ver: Min required Android version"
      ]
    },
    {
      "cell_type": "code",
      "metadata": {
        "id": "13kIE3e1EU2l"
      },
      "source": [
        "import pandas as pd\n",
        "import numpy as np\n",
        "\n",
        "import warnings\n",
        "warnings.filterwarnings('ignore')"
      ],
      "execution_count": null,
      "outputs": []
    },
    {
      "cell_type": "code",
      "metadata": {
        "id": "UlAjZXG6HVZf"
      },
      "source": [
        "app = pd.read_csv('Apps_data.csv')"
      ],
      "execution_count": null,
      "outputs": []
    },
    {
      "cell_type": "code",
      "metadata": {
        "id": "Eu5F3G_LQjLe",
        "outputId": "8ac5e8e4-46f6-41dc-a086-4452cc8ec693",
        "colab": {
          "base_uri": "https://localhost:8080/",
          "height": 297
        }
      },
      "source": [
        "app.describe()"
      ],
      "execution_count": null,
      "outputs": [
        {
          "output_type": "execute_result",
          "data": {
            "text/html": [
              "<div>\n",
              "<style scoped>\n",
              "    .dataframe tbody tr th:only-of-type {\n",
              "        vertical-align: middle;\n",
              "    }\n",
              "\n",
              "    .dataframe tbody tr th {\n",
              "        vertical-align: top;\n",
              "    }\n",
              "\n",
              "    .dataframe thead th {\n",
              "        text-align: right;\n",
              "    }\n",
              "</style>\n",
              "<table border=\"1\" class=\"dataframe\">\n",
              "  <thead>\n",
              "    <tr style=\"text-align: right;\">\n",
              "      <th></th>\n",
              "      <th>Rating</th>\n",
              "    </tr>\n",
              "  </thead>\n",
              "  <tbody>\n",
              "    <tr>\n",
              "      <th>count</th>\n",
              "      <td>9367.000000</td>\n",
              "    </tr>\n",
              "    <tr>\n",
              "      <th>mean</th>\n",
              "      <td>4.193338</td>\n",
              "    </tr>\n",
              "    <tr>\n",
              "      <th>std</th>\n",
              "      <td>0.537431</td>\n",
              "    </tr>\n",
              "    <tr>\n",
              "      <th>min</th>\n",
              "      <td>1.000000</td>\n",
              "    </tr>\n",
              "    <tr>\n",
              "      <th>25%</th>\n",
              "      <td>4.000000</td>\n",
              "    </tr>\n",
              "    <tr>\n",
              "      <th>50%</th>\n",
              "      <td>4.300000</td>\n",
              "    </tr>\n",
              "    <tr>\n",
              "      <th>75%</th>\n",
              "      <td>4.500000</td>\n",
              "    </tr>\n",
              "    <tr>\n",
              "      <th>max</th>\n",
              "      <td>19.000000</td>\n",
              "    </tr>\n",
              "  </tbody>\n",
              "</table>\n",
              "</div>"
            ],
            "text/plain": [
              "            Rating\n",
              "count  9367.000000\n",
              "mean      4.193338\n",
              "std       0.537431\n",
              "min       1.000000\n",
              "25%       4.000000\n",
              "50%       4.300000\n",
              "75%       4.500000\n",
              "max      19.000000"
            ]
          },
          "metadata": {
            "tags": []
          },
          "execution_count": 3
        }
      ]
    },
    {
      "cell_type": "markdown",
      "metadata": {
        "id": "vUvyMqViRwfd"
      },
      "source": [
        "Andriod supports rating from 1-5 but we could see max value is 19, which is wrong, this might be 1.9. Need to dig more."
      ]
    },
    {
      "cell_type": "code",
      "metadata": {
        "id": "ekyEBdVCSKxk",
        "outputId": "52820f3e-d8a9-4384-db21-a36ff94c4b74",
        "colab": {
          "base_uri": "https://localhost:8080/",
          "height": 173
        }
      },
      "source": [
        "app.describe(include='O')"
      ],
      "execution_count": null,
      "outputs": [
        {
          "output_type": "execute_result",
          "data": {
            "text/html": [
              "<div>\n",
              "<style scoped>\n",
              "    .dataframe tbody tr th:only-of-type {\n",
              "        vertical-align: middle;\n",
              "    }\n",
              "\n",
              "    .dataframe tbody tr th {\n",
              "        vertical-align: top;\n",
              "    }\n",
              "\n",
              "    .dataframe thead th {\n",
              "        text-align: right;\n",
              "    }\n",
              "</style>\n",
              "<table border=\"1\" class=\"dataframe\">\n",
              "  <thead>\n",
              "    <tr style=\"text-align: right;\">\n",
              "      <th></th>\n",
              "      <th>App</th>\n",
              "      <th>Category</th>\n",
              "      <th>Reviews</th>\n",
              "      <th>Size</th>\n",
              "      <th>Installs</th>\n",
              "      <th>Type</th>\n",
              "      <th>Price</th>\n",
              "      <th>Content Rating</th>\n",
              "      <th>Genres</th>\n",
              "      <th>Last Updated</th>\n",
              "      <th>Current Ver</th>\n",
              "      <th>Android Ver</th>\n",
              "    </tr>\n",
              "  </thead>\n",
              "  <tbody>\n",
              "    <tr>\n",
              "      <th>count</th>\n",
              "      <td>10841</td>\n",
              "      <td>10841</td>\n",
              "      <td>10841</td>\n",
              "      <td>10841</td>\n",
              "      <td>10841</td>\n",
              "      <td>10840</td>\n",
              "      <td>10841</td>\n",
              "      <td>10840</td>\n",
              "      <td>10841</td>\n",
              "      <td>10841</td>\n",
              "      <td>10833</td>\n",
              "      <td>10838</td>\n",
              "    </tr>\n",
              "    <tr>\n",
              "      <th>unique</th>\n",
              "      <td>9660</td>\n",
              "      <td>34</td>\n",
              "      <td>6002</td>\n",
              "      <td>462</td>\n",
              "      <td>22</td>\n",
              "      <td>3</td>\n",
              "      <td>93</td>\n",
              "      <td>6</td>\n",
              "      <td>120</td>\n",
              "      <td>1378</td>\n",
              "      <td>2832</td>\n",
              "      <td>33</td>\n",
              "    </tr>\n",
              "    <tr>\n",
              "      <th>top</th>\n",
              "      <td>ROBLOX</td>\n",
              "      <td>FAMILY</td>\n",
              "      <td>0</td>\n",
              "      <td>Varies with device</td>\n",
              "      <td>1,000,000+</td>\n",
              "      <td>Free</td>\n",
              "      <td>0</td>\n",
              "      <td>Everyone</td>\n",
              "      <td>Tools</td>\n",
              "      <td>August 3, 2018</td>\n",
              "      <td>Varies with device</td>\n",
              "      <td>4.1 and up</td>\n",
              "    </tr>\n",
              "    <tr>\n",
              "      <th>freq</th>\n",
              "      <td>9</td>\n",
              "      <td>1972</td>\n",
              "      <td>596</td>\n",
              "      <td>1695</td>\n",
              "      <td>1579</td>\n",
              "      <td>10039</td>\n",
              "      <td>10040</td>\n",
              "      <td>8714</td>\n",
              "      <td>842</td>\n",
              "      <td>326</td>\n",
              "      <td>1459</td>\n",
              "      <td>2451</td>\n",
              "    </tr>\n",
              "  </tbody>\n",
              "</table>\n",
              "</div>"
            ],
            "text/plain": [
              "           App Category Reviews  ...    Last Updated         Current Ver Android Ver\n",
              "count    10841    10841   10841  ...           10841               10833       10838\n",
              "unique    9660       34    6002  ...            1378                2832          33\n",
              "top     ROBLOX   FAMILY       0  ...  August 3, 2018  Varies with device  4.1 and up\n",
              "freq         9     1972     596  ...             326                1459        2451\n",
              "\n",
              "[4 rows x 12 columns]"
            ]
          },
          "metadata": {
            "tags": []
          },
          "execution_count": 4
        }
      ]
    },
    {
      "cell_type": "markdown",
      "metadata": {
        "id": "IhltIV7GTb_C"
      },
      "source": [
        "For predict rating of an app, we dont need columns like Last Updated, Current Ver and Android Ver. we can remove them.\n"
      ]
    },
    {
      "cell_type": "code",
      "metadata": {
        "id": "T2yzbufwIDKx",
        "outputId": "96d210b0-64c1-4747-86ee-35c4ae4d379d",
        "colab": {
          "base_uri": "https://localhost:8080/",
          "height": 34
        }
      },
      "source": [
        "app.shape"
      ],
      "execution_count": null,
      "outputs": [
        {
          "output_type": "execute_result",
          "data": {
            "text/plain": [
              "(10841, 13)"
            ]
          },
          "metadata": {
            "tags": []
          },
          "execution_count": 5
        }
      ]
    },
    {
      "cell_type": "code",
      "metadata": {
        "id": "M4UWeOYbITw8",
        "outputId": "ae1db115-f17d-4b13-a8e3-a9d4cf90d969",
        "colab": {
          "base_uri": "https://localhost:8080/",
          "height": 34
        }
      },
      "source": [
        "app.App.nunique() / len(app)"
      ],
      "execution_count": null,
      "outputs": [
        {
          "output_type": "execute_result",
          "data": {
            "text/plain": [
              "0.8910617101743381"
            ]
          },
          "metadata": {
            "tags": []
          },
          "execution_count": 6
        }
      ]
    },
    {
      "cell_type": "code",
      "metadata": {
        "id": "KkQwxr96IZym",
        "outputId": "057b984e-4c35-47d7-ba91-adfd6b951cc9",
        "colab": {
          "base_uri": "https://localhost:8080/",
          "height": 255
        }
      },
      "source": [
        "((app.nunique()/ len(app) )* 100).sort_values(ascending = False)"
      ],
      "execution_count": null,
      "outputs": [
        {
          "output_type": "execute_result",
          "data": {
            "text/plain": [
              "App               89.106171\n",
              "Reviews           55.363896\n",
              "Current Ver       26.123051\n",
              "Last Updated      12.711005\n",
              "Size               4.261599\n",
              "Genres             1.106909\n",
              "Price              0.857854\n",
              "Rating             0.368970\n",
              "Category           0.313624\n",
              "Android Ver        0.304400\n",
              "Installs           0.202933\n",
              "Content Rating     0.055345\n",
              "Type               0.027673\n",
              "dtype: float64"
            ]
          },
          "metadata": {
            "tags": []
          },
          "execution_count": 7
        }
      ]
    },
    {
      "cell_type": "code",
      "metadata": {
        "id": "ZtKgQRm-IgjQ"
      },
      "source": [
        "# app.drop(columns=['App'],inplace=True)"
      ],
      "execution_count": null,
      "outputs": []
    },
    {
      "cell_type": "code",
      "metadata": {
        "id": "-LU0OXrdJNdP"
      },
      "source": [
        "# app.head()"
      ],
      "execution_count": null,
      "outputs": []
    },
    {
      "cell_type": "code",
      "metadata": {
        "id": "TvmUQqZbJRJs",
        "outputId": "58b008dd-e09f-4680-8772-9da94aace2a0",
        "colab": {
          "base_uri": "https://localhost:8080/",
          "height": 51
        }
      },
      "source": [
        "kb_index = app.Size[app.Size.str.contains('k')].index\n",
        "mb_index = app.Size[~(app.Size.str.contains('k'))].index\n",
        "print(f\"Count of KB's Apps : {len(kb_index)}\")\n",
        "print(f\"Count of MB's Apps : {len(mb_index)}\")"
      ],
      "execution_count": null,
      "outputs": [
        {
          "output_type": "stream",
          "text": [
            "Count of KB's Apps : 316\n",
            "Count of MB's Apps : 10525\n"
          ],
          "name": "stdout"
        }
      ]
    },
    {
      "cell_type": "code",
      "metadata": {
        "id": "K8SfIQyjKReu"
      },
      "source": [
        "# lets convert size of the app from KB to MB\n",
        "# app.Size.iloc[kb_index] * 1000"
      ],
      "execution_count": null,
      "outputs": []
    },
    {
      "cell_type": "code",
      "metadata": {
        "id": "AUUnUF9G40-a"
      },
      "source": [
        ""
      ],
      "execution_count": null,
      "outputs": []
    },
    {
      "cell_type": "code",
      "metadata": {
        "id": "YDRawn4m41Cd"
      },
      "source": [
        ""
      ],
      "execution_count": null,
      "outputs": []
    },
    {
      "cell_type": "code",
      "metadata": {
        "id": "4qJwaIMe405J"
      },
      "source": [
        ""
      ],
      "execution_count": null,
      "outputs": []
    },
    {
      "cell_type": "code",
      "metadata": {
        "id": "XTfUqmd_LAHr",
        "outputId": "282a8d21-6d2c-445e-fd87-5ae65128c430",
        "colab": {
          "base_uri": "https://localhost:8080/",
          "height": 323
        }
      },
      "source": [
        "app.head()"
      ],
      "execution_count": null,
      "outputs": [
        {
          "output_type": "execute_result",
          "data": {
            "text/html": [
              "<div>\n",
              "<style scoped>\n",
              "    .dataframe tbody tr th:only-of-type {\n",
              "        vertical-align: middle;\n",
              "    }\n",
              "\n",
              "    .dataframe tbody tr th {\n",
              "        vertical-align: top;\n",
              "    }\n",
              "\n",
              "    .dataframe thead th {\n",
              "        text-align: right;\n",
              "    }\n",
              "</style>\n",
              "<table border=\"1\" class=\"dataframe\">\n",
              "  <thead>\n",
              "    <tr style=\"text-align: right;\">\n",
              "      <th></th>\n",
              "      <th>App</th>\n",
              "      <th>Category</th>\n",
              "      <th>Rating</th>\n",
              "      <th>Reviews</th>\n",
              "      <th>Size</th>\n",
              "      <th>Installs</th>\n",
              "      <th>Type</th>\n",
              "      <th>Price</th>\n",
              "      <th>Content Rating</th>\n",
              "      <th>Genres</th>\n",
              "      <th>Last Updated</th>\n",
              "      <th>Current Ver</th>\n",
              "      <th>Android Ver</th>\n",
              "    </tr>\n",
              "  </thead>\n",
              "  <tbody>\n",
              "    <tr>\n",
              "      <th>0</th>\n",
              "      <td>Photo Editor &amp; Candy Camera &amp; Grid &amp; ScrapBook</td>\n",
              "      <td>ART_AND_DESIGN</td>\n",
              "      <td>4.1</td>\n",
              "      <td>159</td>\n",
              "      <td>19M</td>\n",
              "      <td>10,000+</td>\n",
              "      <td>Free</td>\n",
              "      <td>0</td>\n",
              "      <td>Everyone</td>\n",
              "      <td>Art &amp; Design</td>\n",
              "      <td>January 7, 2018</td>\n",
              "      <td>1.0.0</td>\n",
              "      <td>4.0.3 and up</td>\n",
              "    </tr>\n",
              "    <tr>\n",
              "      <th>1</th>\n",
              "      <td>Coloring book moana</td>\n",
              "      <td>ART_AND_DESIGN</td>\n",
              "      <td>3.9</td>\n",
              "      <td>967</td>\n",
              "      <td>14M</td>\n",
              "      <td>500,000+</td>\n",
              "      <td>Free</td>\n",
              "      <td>0</td>\n",
              "      <td>Everyone</td>\n",
              "      <td>Art &amp; Design;Pretend Play</td>\n",
              "      <td>January 15, 2018</td>\n",
              "      <td>2.0.0</td>\n",
              "      <td>4.0.3 and up</td>\n",
              "    </tr>\n",
              "    <tr>\n",
              "      <th>2</th>\n",
              "      <td>U Launcher Lite – FREE Live Cool Themes, Hide ...</td>\n",
              "      <td>ART_AND_DESIGN</td>\n",
              "      <td>4.7</td>\n",
              "      <td>87510</td>\n",
              "      <td>8.7M</td>\n",
              "      <td>5,000,000+</td>\n",
              "      <td>Free</td>\n",
              "      <td>0</td>\n",
              "      <td>Everyone</td>\n",
              "      <td>Art &amp; Design</td>\n",
              "      <td>August 1, 2018</td>\n",
              "      <td>1.2.4</td>\n",
              "      <td>4.0.3 and up</td>\n",
              "    </tr>\n",
              "    <tr>\n",
              "      <th>3</th>\n",
              "      <td>Sketch - Draw &amp; Paint</td>\n",
              "      <td>ART_AND_DESIGN</td>\n",
              "      <td>4.5</td>\n",
              "      <td>215644</td>\n",
              "      <td>25M</td>\n",
              "      <td>50,000,000+</td>\n",
              "      <td>Free</td>\n",
              "      <td>0</td>\n",
              "      <td>Teen</td>\n",
              "      <td>Art &amp; Design</td>\n",
              "      <td>June 8, 2018</td>\n",
              "      <td>Varies with device</td>\n",
              "      <td>4.2 and up</td>\n",
              "    </tr>\n",
              "    <tr>\n",
              "      <th>4</th>\n",
              "      <td>Pixel Draw - Number Art Coloring Book</td>\n",
              "      <td>ART_AND_DESIGN</td>\n",
              "      <td>4.3</td>\n",
              "      <td>967</td>\n",
              "      <td>2.8M</td>\n",
              "      <td>100,000+</td>\n",
              "      <td>Free</td>\n",
              "      <td>0</td>\n",
              "      <td>Everyone</td>\n",
              "      <td>Art &amp; Design;Creativity</td>\n",
              "      <td>June 20, 2018</td>\n",
              "      <td>1.1</td>\n",
              "      <td>4.4 and up</td>\n",
              "    </tr>\n",
              "  </tbody>\n",
              "</table>\n",
              "</div>"
            ],
            "text/plain": [
              "                                                 App  ...   Android Ver\n",
              "0     Photo Editor & Candy Camera & Grid & ScrapBook  ...  4.0.3 and up\n",
              "1                                Coloring book moana  ...  4.0.3 and up\n",
              "2  U Launcher Lite – FREE Live Cool Themes, Hide ...  ...  4.0.3 and up\n",
              "3                              Sketch - Draw & Paint  ...    4.2 and up\n",
              "4              Pixel Draw - Number Art Coloring Book  ...    4.4 and up\n",
              "\n",
              "[5 rows x 13 columns]"
            ]
          },
          "metadata": {
            "tags": []
          },
          "execution_count": 12
        }
      ]
    },
    {
      "cell_type": "code",
      "metadata": {
        "id": "nEXLNuPx4zUL",
        "outputId": "5bba40e0-2cc9-4b8c-a835-85d2c31aa64a",
        "colab": {
          "base_uri": "https://localhost:8080/",
          "height": 357
        }
      },
      "source": [
        "app.info()"
      ],
      "execution_count": null,
      "outputs": [
        {
          "output_type": "stream",
          "text": [
            "<class 'pandas.core.frame.DataFrame'>\n",
            "RangeIndex: 10841 entries, 0 to 10840\n",
            "Data columns (total 13 columns):\n",
            " #   Column          Non-Null Count  Dtype  \n",
            "---  ------          --------------  -----  \n",
            " 0   App             10841 non-null  object \n",
            " 1   Category        10841 non-null  object \n",
            " 2   Rating          9367 non-null   float64\n",
            " 3   Reviews         10841 non-null  object \n",
            " 4   Size            10841 non-null  object \n",
            " 5   Installs        10841 non-null  object \n",
            " 6   Type            10840 non-null  object \n",
            " 7   Price           10841 non-null  object \n",
            " 8   Content Rating  10840 non-null  object \n",
            " 9   Genres          10841 non-null  object \n",
            " 10  Last Updated    10841 non-null  object \n",
            " 11  Current Ver     10833 non-null  object \n",
            " 12  Android Ver     10838 non-null  object \n",
            "dtypes: float64(1), object(12)\n",
            "memory usage: 1.1+ MB\n"
          ],
          "name": "stdout"
        }
      ]
    },
    {
      "cell_type": "code",
      "metadata": {
        "id": "O6BeBAn2461_",
        "outputId": "744be14a-6d31-4e34-a3bc-dc0b638d686b",
        "colab": {
          "base_uri": "https://localhost:8080/",
          "height": 297
        }
      },
      "source": [
        "app.describe()"
      ],
      "execution_count": null,
      "outputs": [
        {
          "output_type": "execute_result",
          "data": {
            "text/html": [
              "<div>\n",
              "<style scoped>\n",
              "    .dataframe tbody tr th:only-of-type {\n",
              "        vertical-align: middle;\n",
              "    }\n",
              "\n",
              "    .dataframe tbody tr th {\n",
              "        vertical-align: top;\n",
              "    }\n",
              "\n",
              "    .dataframe thead th {\n",
              "        text-align: right;\n",
              "    }\n",
              "</style>\n",
              "<table border=\"1\" class=\"dataframe\">\n",
              "  <thead>\n",
              "    <tr style=\"text-align: right;\">\n",
              "      <th></th>\n",
              "      <th>Rating</th>\n",
              "    </tr>\n",
              "  </thead>\n",
              "  <tbody>\n",
              "    <tr>\n",
              "      <th>count</th>\n",
              "      <td>9367.000000</td>\n",
              "    </tr>\n",
              "    <tr>\n",
              "      <th>mean</th>\n",
              "      <td>4.193338</td>\n",
              "    </tr>\n",
              "    <tr>\n",
              "      <th>std</th>\n",
              "      <td>0.537431</td>\n",
              "    </tr>\n",
              "    <tr>\n",
              "      <th>min</th>\n",
              "      <td>1.000000</td>\n",
              "    </tr>\n",
              "    <tr>\n",
              "      <th>25%</th>\n",
              "      <td>4.000000</td>\n",
              "    </tr>\n",
              "    <tr>\n",
              "      <th>50%</th>\n",
              "      <td>4.300000</td>\n",
              "    </tr>\n",
              "    <tr>\n",
              "      <th>75%</th>\n",
              "      <td>4.500000</td>\n",
              "    </tr>\n",
              "    <tr>\n",
              "      <th>max</th>\n",
              "      <td>19.000000</td>\n",
              "    </tr>\n",
              "  </tbody>\n",
              "</table>\n",
              "</div>"
            ],
            "text/plain": [
              "            Rating\n",
              "count  9367.000000\n",
              "mean      4.193338\n",
              "std       0.537431\n",
              "min       1.000000\n",
              "25%       4.000000\n",
              "50%       4.300000\n",
              "75%       4.500000\n",
              "max      19.000000"
            ]
          },
          "metadata": {
            "tags": []
          },
          "execution_count": 14
        }
      ]
    },
    {
      "cell_type": "markdown",
      "metadata": {
        "id": "vxbltepJ5pzj"
      },
      "source": [
        "Max count rating is 19 which is wrong and also count is 9367 some records are missing."
      ]
    },
    {
      "cell_type": "code",
      "metadata": {
        "id": "46D95xE15N11",
        "outputId": "e8763e8f-a8b4-4642-a52b-9153f5f111db",
        "colab": {
          "base_uri": "https://localhost:8080/",
          "height": 612
        }
      },
      "source": [
        "app.Category.value_counts()"
      ],
      "execution_count": null,
      "outputs": [
        {
          "output_type": "execute_result",
          "data": {
            "text/plain": [
              "FAMILY                 1972\n",
              "GAME                   1144\n",
              "TOOLS                   843\n",
              "MEDICAL                 463\n",
              "BUSINESS                460\n",
              "PRODUCTIVITY            424\n",
              "PERSONALIZATION         392\n",
              "COMMUNICATION           387\n",
              "SPORTS                  384\n",
              "LIFESTYLE               382\n",
              "FINANCE                 366\n",
              "HEALTH_AND_FITNESS      341\n",
              "PHOTOGRAPHY             335\n",
              "SOCIAL                  295\n",
              "NEWS_AND_MAGAZINES      283\n",
              "SHOPPING                260\n",
              "TRAVEL_AND_LOCAL        258\n",
              "DATING                  234\n",
              "BOOKS_AND_REFERENCE     231\n",
              "VIDEO_PLAYERS           175\n",
              "EDUCATION               156\n",
              "ENTERTAINMENT           149\n",
              "MAPS_AND_NAVIGATION     137\n",
              "FOOD_AND_DRINK          127\n",
              "HOUSE_AND_HOME           88\n",
              "AUTO_AND_VEHICLES        85\n",
              "LIBRARIES_AND_DEMO       85\n",
              "WEATHER                  82\n",
              "ART_AND_DESIGN           65\n",
              "EVENTS                   64\n",
              "PARENTING                60\n",
              "COMICS                   60\n",
              "BEAUTY                   53\n",
              "1.9                       1\n",
              "Name: Category, dtype: int64"
            ]
          },
          "metadata": {
            "tags": []
          },
          "execution_count": 15
        }
      ]
    },
    {
      "cell_type": "code",
      "metadata": {
        "id": "xODy8HzD5bQ1",
        "outputId": "c3803cc7-c8da-4cba-aa25-f09dcae37fa9",
        "colab": {
          "base_uri": "https://localhost:8080/",
          "height": 173
        }
      },
      "source": [
        "app.describe(include='O')"
      ],
      "execution_count": null,
      "outputs": [
        {
          "output_type": "execute_result",
          "data": {
            "text/html": [
              "<div>\n",
              "<style scoped>\n",
              "    .dataframe tbody tr th:only-of-type {\n",
              "        vertical-align: middle;\n",
              "    }\n",
              "\n",
              "    .dataframe tbody tr th {\n",
              "        vertical-align: top;\n",
              "    }\n",
              "\n",
              "    .dataframe thead th {\n",
              "        text-align: right;\n",
              "    }\n",
              "</style>\n",
              "<table border=\"1\" class=\"dataframe\">\n",
              "  <thead>\n",
              "    <tr style=\"text-align: right;\">\n",
              "      <th></th>\n",
              "      <th>App</th>\n",
              "      <th>Category</th>\n",
              "      <th>Reviews</th>\n",
              "      <th>Size</th>\n",
              "      <th>Installs</th>\n",
              "      <th>Type</th>\n",
              "      <th>Price</th>\n",
              "      <th>Content Rating</th>\n",
              "      <th>Genres</th>\n",
              "      <th>Last Updated</th>\n",
              "      <th>Current Ver</th>\n",
              "      <th>Android Ver</th>\n",
              "    </tr>\n",
              "  </thead>\n",
              "  <tbody>\n",
              "    <tr>\n",
              "      <th>count</th>\n",
              "      <td>10841</td>\n",
              "      <td>10841</td>\n",
              "      <td>10841</td>\n",
              "      <td>10841</td>\n",
              "      <td>10841</td>\n",
              "      <td>10840</td>\n",
              "      <td>10841</td>\n",
              "      <td>10840</td>\n",
              "      <td>10841</td>\n",
              "      <td>10841</td>\n",
              "      <td>10833</td>\n",
              "      <td>10838</td>\n",
              "    </tr>\n",
              "    <tr>\n",
              "      <th>unique</th>\n",
              "      <td>9660</td>\n",
              "      <td>34</td>\n",
              "      <td>6002</td>\n",
              "      <td>462</td>\n",
              "      <td>22</td>\n",
              "      <td>3</td>\n",
              "      <td>93</td>\n",
              "      <td>6</td>\n",
              "      <td>120</td>\n",
              "      <td>1378</td>\n",
              "      <td>2832</td>\n",
              "      <td>33</td>\n",
              "    </tr>\n",
              "    <tr>\n",
              "      <th>top</th>\n",
              "      <td>ROBLOX</td>\n",
              "      <td>FAMILY</td>\n",
              "      <td>0</td>\n",
              "      <td>Varies with device</td>\n",
              "      <td>1,000,000+</td>\n",
              "      <td>Free</td>\n",
              "      <td>0</td>\n",
              "      <td>Everyone</td>\n",
              "      <td>Tools</td>\n",
              "      <td>August 3, 2018</td>\n",
              "      <td>Varies with device</td>\n",
              "      <td>4.1 and up</td>\n",
              "    </tr>\n",
              "    <tr>\n",
              "      <th>freq</th>\n",
              "      <td>9</td>\n",
              "      <td>1972</td>\n",
              "      <td>596</td>\n",
              "      <td>1695</td>\n",
              "      <td>1579</td>\n",
              "      <td>10039</td>\n",
              "      <td>10040</td>\n",
              "      <td>8714</td>\n",
              "      <td>842</td>\n",
              "      <td>326</td>\n",
              "      <td>1459</td>\n",
              "      <td>2451</td>\n",
              "    </tr>\n",
              "  </tbody>\n",
              "</table>\n",
              "</div>"
            ],
            "text/plain": [
              "           App Category Reviews  ...    Last Updated         Current Ver Android Ver\n",
              "count    10841    10841   10841  ...           10841               10833       10838\n",
              "unique    9660       34    6002  ...            1378                2832          33\n",
              "top     ROBLOX   FAMILY       0  ...  August 3, 2018  Varies with device  4.1 and up\n",
              "freq         9     1972     596  ...             326                1459        2451\n",
              "\n",
              "[4 rows x 12 columns]"
            ]
          },
          "metadata": {
            "tags": []
          },
          "execution_count": 16
        }
      ]
    },
    {
      "cell_type": "markdown",
      "metadata": {
        "id": "WYMFD5eM7yrD"
      },
      "source": [
        "1. Most of apps(1972) are belongs to category of type Family.\n",
        "2. 5% of the apps were not even revied. This might be either the apps were new or failed to reach customers.\n",
        "3. Most of the apps(92% of the apps) in the play store are free to download.\n",
        "4. Most of the apps(80%) are made to use everyone.\n",
        "5. Seems some apps are duplicated , need to confirm and remove to avoid data leakage."
      ]
    },
    {
      "cell_type": "code",
      "metadata": {
        "id": "qZVsGtoO7wNc",
        "outputId": "b26c3b25-34e1-448b-f1e3-ca203612eba3",
        "colab": {
          "base_uri": "https://localhost:8080/",
          "height": 204
        }
      },
      "source": [
        "app.App.value_counts(dropna=False).head(10)\n",
        "# seems some apps are duplicated, before dropping them lest makesure if they are really duplicated"
      ],
      "execution_count": null,
      "outputs": [
        {
          "output_type": "execute_result",
          "data": {
            "text/plain": [
              "ROBLOX                                                9\n",
              "CBS Sports App - Scores, News, Stats & Watch Live     8\n",
              "8 Ball Pool                                           7\n",
              "ESPN                                                  7\n",
              "Duolingo: Learn Languages Free                        7\n",
              "Candy Crush Saga                                      7\n",
              "Sniper 3D Gun Shooter: Free Shooting Games - FPS      6\n",
              "Nick                                                  6\n",
              "Bleacher Report: sports news, scores, & highlights    6\n",
              "Bubble Shooter                                        6\n",
              "Name: App, dtype: int64"
            ]
          },
          "metadata": {
            "tags": []
          },
          "execution_count": 17
        }
      ]
    },
    {
      "cell_type": "code",
      "metadata": {
        "id": "Qz_zN2uA9Fp5",
        "outputId": "3c266442-5d86-4063-8da6-f5399a80b7e5",
        "colab": {
          "base_uri": "https://localhost:8080/",
          "height": 834
        }
      },
      "source": [
        "# app[app.duplicated()].sort_values(by='App')\n",
        "# Lets check with some apps instead of all at once\n",
        "app[app.App.isin(['ROBLOX','ESPN'])].sort_values(by='App')"
      ],
      "execution_count": null,
      "outputs": [
        {
          "output_type": "execute_result",
          "data": {
            "text/html": [
              "<div>\n",
              "<style scoped>\n",
              "    .dataframe tbody tr th:only-of-type {\n",
              "        vertical-align: middle;\n",
              "    }\n",
              "\n",
              "    .dataframe tbody tr th {\n",
              "        vertical-align: top;\n",
              "    }\n",
              "\n",
              "    .dataframe thead th {\n",
              "        text-align: right;\n",
              "    }\n",
              "</style>\n",
              "<table border=\"1\" class=\"dataframe\">\n",
              "  <thead>\n",
              "    <tr style=\"text-align: right;\">\n",
              "      <th></th>\n",
              "      <th>App</th>\n",
              "      <th>Category</th>\n",
              "      <th>Rating</th>\n",
              "      <th>Reviews</th>\n",
              "      <th>Size</th>\n",
              "      <th>Installs</th>\n",
              "      <th>Type</th>\n",
              "      <th>Price</th>\n",
              "      <th>Content Rating</th>\n",
              "      <th>Genres</th>\n",
              "      <th>Last Updated</th>\n",
              "      <th>Current Ver</th>\n",
              "      <th>Android Ver</th>\n",
              "    </tr>\n",
              "  </thead>\n",
              "  <tbody>\n",
              "    <tr>\n",
              "      <th>2959</th>\n",
              "      <td>ESPN</td>\n",
              "      <td>SPORTS</td>\n",
              "      <td>4.2</td>\n",
              "      <td>521138</td>\n",
              "      <td>Varies with device</td>\n",
              "      <td>10,000,000+</td>\n",
              "      <td>Free</td>\n",
              "      <td>0</td>\n",
              "      <td>Everyone 10+</td>\n",
              "      <td>Sports</td>\n",
              "      <td>July 19, 2018</td>\n",
              "      <td>Varies with device</td>\n",
              "      <td>5.0 and up</td>\n",
              "    </tr>\n",
              "    <tr>\n",
              "      <th>3010</th>\n",
              "      <td>ESPN</td>\n",
              "      <td>SPORTS</td>\n",
              "      <td>4.2</td>\n",
              "      <td>521138</td>\n",
              "      <td>Varies with device</td>\n",
              "      <td>10,000,000+</td>\n",
              "      <td>Free</td>\n",
              "      <td>0</td>\n",
              "      <td>Everyone 10+</td>\n",
              "      <td>Sports</td>\n",
              "      <td>July 19, 2018</td>\n",
              "      <td>Varies with device</td>\n",
              "      <td>5.0 and up</td>\n",
              "    </tr>\n",
              "    <tr>\n",
              "      <th>3018</th>\n",
              "      <td>ESPN</td>\n",
              "      <td>SPORTS</td>\n",
              "      <td>4.2</td>\n",
              "      <td>521138</td>\n",
              "      <td>Varies with device</td>\n",
              "      <td>10,000,000+</td>\n",
              "      <td>Free</td>\n",
              "      <td>0</td>\n",
              "      <td>Everyone 10+</td>\n",
              "      <td>Sports</td>\n",
              "      <td>July 19, 2018</td>\n",
              "      <td>Varies with device</td>\n",
              "      <td>5.0 and up</td>\n",
              "    </tr>\n",
              "    <tr>\n",
              "      <th>3048</th>\n",
              "      <td>ESPN</td>\n",
              "      <td>SPORTS</td>\n",
              "      <td>4.2</td>\n",
              "      <td>521140</td>\n",
              "      <td>Varies with device</td>\n",
              "      <td>10,000,000+</td>\n",
              "      <td>Free</td>\n",
              "      <td>0</td>\n",
              "      <td>Everyone 10+</td>\n",
              "      <td>Sports</td>\n",
              "      <td>July 19, 2018</td>\n",
              "      <td>Varies with device</td>\n",
              "      <td>5.0 and up</td>\n",
              "    </tr>\n",
              "    <tr>\n",
              "      <th>3060</th>\n",
              "      <td>ESPN</td>\n",
              "      <td>SPORTS</td>\n",
              "      <td>4.2</td>\n",
              "      <td>521140</td>\n",
              "      <td>Varies with device</td>\n",
              "      <td>10,000,000+</td>\n",
              "      <td>Free</td>\n",
              "      <td>0</td>\n",
              "      <td>Everyone 10+</td>\n",
              "      <td>Sports</td>\n",
              "      <td>July 19, 2018</td>\n",
              "      <td>Varies with device</td>\n",
              "      <td>5.0 and up</td>\n",
              "    </tr>\n",
              "    <tr>\n",
              "      <th>3072</th>\n",
              "      <td>ESPN</td>\n",
              "      <td>SPORTS</td>\n",
              "      <td>4.2</td>\n",
              "      <td>521140</td>\n",
              "      <td>Varies with device</td>\n",
              "      <td>10,000,000+</td>\n",
              "      <td>Free</td>\n",
              "      <td>0</td>\n",
              "      <td>Everyone 10+</td>\n",
              "      <td>Sports</td>\n",
              "      <td>July 19, 2018</td>\n",
              "      <td>Varies with device</td>\n",
              "      <td>5.0 and up</td>\n",
              "    </tr>\n",
              "    <tr>\n",
              "      <th>4069</th>\n",
              "      <td>ESPN</td>\n",
              "      <td>SPORTS</td>\n",
              "      <td>4.2</td>\n",
              "      <td>521081</td>\n",
              "      <td>Varies with device</td>\n",
              "      <td>10,000,000+</td>\n",
              "      <td>Free</td>\n",
              "      <td>0</td>\n",
              "      <td>Everyone 10+</td>\n",
              "      <td>Sports</td>\n",
              "      <td>July 19, 2018</td>\n",
              "      <td>Varies with device</td>\n",
              "      <td>5.0 and up</td>\n",
              "    </tr>\n",
              "    <tr>\n",
              "      <th>1653</th>\n",
              "      <td>ROBLOX</td>\n",
              "      <td>GAME</td>\n",
              "      <td>4.5</td>\n",
              "      <td>4447388</td>\n",
              "      <td>67M</td>\n",
              "      <td>100,000,000+</td>\n",
              "      <td>Free</td>\n",
              "      <td>0</td>\n",
              "      <td>Everyone 10+</td>\n",
              "      <td>Adventure;Action &amp; Adventure</td>\n",
              "      <td>July 31, 2018</td>\n",
              "      <td>2.347.225742</td>\n",
              "      <td>4.1 and up</td>\n",
              "    </tr>\n",
              "    <tr>\n",
              "      <th>1701</th>\n",
              "      <td>ROBLOX</td>\n",
              "      <td>GAME</td>\n",
              "      <td>4.5</td>\n",
              "      <td>4447346</td>\n",
              "      <td>67M</td>\n",
              "      <td>100,000,000+</td>\n",
              "      <td>Free</td>\n",
              "      <td>0</td>\n",
              "      <td>Everyone 10+</td>\n",
              "      <td>Adventure;Action &amp; Adventure</td>\n",
              "      <td>July 31, 2018</td>\n",
              "      <td>2.347.225742</td>\n",
              "      <td>4.1 and up</td>\n",
              "    </tr>\n",
              "    <tr>\n",
              "      <th>1748</th>\n",
              "      <td>ROBLOX</td>\n",
              "      <td>GAME</td>\n",
              "      <td>4.5</td>\n",
              "      <td>4448791</td>\n",
              "      <td>67M</td>\n",
              "      <td>100,000,000+</td>\n",
              "      <td>Free</td>\n",
              "      <td>0</td>\n",
              "      <td>Everyone 10+</td>\n",
              "      <td>Adventure;Action &amp; Adventure</td>\n",
              "      <td>July 31, 2018</td>\n",
              "      <td>2.347.225742</td>\n",
              "      <td>4.1 and up</td>\n",
              "    </tr>\n",
              "    <tr>\n",
              "      <th>1841</th>\n",
              "      <td>ROBLOX</td>\n",
              "      <td>GAME</td>\n",
              "      <td>4.5</td>\n",
              "      <td>4449882</td>\n",
              "      <td>67M</td>\n",
              "      <td>100,000,000+</td>\n",
              "      <td>Free</td>\n",
              "      <td>0</td>\n",
              "      <td>Everyone 10+</td>\n",
              "      <td>Adventure;Action &amp; Adventure</td>\n",
              "      <td>July 31, 2018</td>\n",
              "      <td>2.347.225742</td>\n",
              "      <td>4.1 and up</td>\n",
              "    </tr>\n",
              "    <tr>\n",
              "      <th>1870</th>\n",
              "      <td>ROBLOX</td>\n",
              "      <td>GAME</td>\n",
              "      <td>4.5</td>\n",
              "      <td>4449910</td>\n",
              "      <td>67M</td>\n",
              "      <td>100,000,000+</td>\n",
              "      <td>Free</td>\n",
              "      <td>0</td>\n",
              "      <td>Everyone 10+</td>\n",
              "      <td>Adventure;Action &amp; Adventure</td>\n",
              "      <td>July 31, 2018</td>\n",
              "      <td>2.347.225742</td>\n",
              "      <td>4.1 and up</td>\n",
              "    </tr>\n",
              "    <tr>\n",
              "      <th>2016</th>\n",
              "      <td>ROBLOX</td>\n",
              "      <td>FAMILY</td>\n",
              "      <td>4.5</td>\n",
              "      <td>4449910</td>\n",
              "      <td>67M</td>\n",
              "      <td>100,000,000+</td>\n",
              "      <td>Free</td>\n",
              "      <td>0</td>\n",
              "      <td>Everyone 10+</td>\n",
              "      <td>Adventure;Action &amp; Adventure</td>\n",
              "      <td>July 31, 2018</td>\n",
              "      <td>2.347.225742</td>\n",
              "      <td>4.1 and up</td>\n",
              "    </tr>\n",
              "    <tr>\n",
              "      <th>2088</th>\n",
              "      <td>ROBLOX</td>\n",
              "      <td>FAMILY</td>\n",
              "      <td>4.5</td>\n",
              "      <td>4450855</td>\n",
              "      <td>67M</td>\n",
              "      <td>100,000,000+</td>\n",
              "      <td>Free</td>\n",
              "      <td>0</td>\n",
              "      <td>Everyone 10+</td>\n",
              "      <td>Adventure;Action &amp; Adventure</td>\n",
              "      <td>July 31, 2018</td>\n",
              "      <td>2.347.225742</td>\n",
              "      <td>4.1 and up</td>\n",
              "    </tr>\n",
              "    <tr>\n",
              "      <th>2206</th>\n",
              "      <td>ROBLOX</td>\n",
              "      <td>FAMILY</td>\n",
              "      <td>4.5</td>\n",
              "      <td>4450890</td>\n",
              "      <td>67M</td>\n",
              "      <td>100,000,000+</td>\n",
              "      <td>Free</td>\n",
              "      <td>0</td>\n",
              "      <td>Everyone 10+</td>\n",
              "      <td>Adventure;Action &amp; Adventure</td>\n",
              "      <td>July 31, 2018</td>\n",
              "      <td>2.347.225742</td>\n",
              "      <td>4.1 and up</td>\n",
              "    </tr>\n",
              "    <tr>\n",
              "      <th>4527</th>\n",
              "      <td>ROBLOX</td>\n",
              "      <td>FAMILY</td>\n",
              "      <td>4.5</td>\n",
              "      <td>4443407</td>\n",
              "      <td>67M</td>\n",
              "      <td>100,000,000+</td>\n",
              "      <td>Free</td>\n",
              "      <td>0</td>\n",
              "      <td>Everyone 10+</td>\n",
              "      <td>Adventure;Action &amp; Adventure</td>\n",
              "      <td>July 31, 2018</td>\n",
              "      <td>2.347.225742</td>\n",
              "      <td>4.1 and up</td>\n",
              "    </tr>\n",
              "  </tbody>\n",
              "</table>\n",
              "</div>"
            ],
            "text/plain": [
              "         App Category  Rating  ...   Last Updated         Current Ver Android Ver\n",
              "2959    ESPN   SPORTS     4.2  ...  July 19, 2018  Varies with device  5.0 and up\n",
              "3010    ESPN   SPORTS     4.2  ...  July 19, 2018  Varies with device  5.0 and up\n",
              "3018    ESPN   SPORTS     4.2  ...  July 19, 2018  Varies with device  5.0 and up\n",
              "3048    ESPN   SPORTS     4.2  ...  July 19, 2018  Varies with device  5.0 and up\n",
              "3060    ESPN   SPORTS     4.2  ...  July 19, 2018  Varies with device  5.0 and up\n",
              "3072    ESPN   SPORTS     4.2  ...  July 19, 2018  Varies with device  5.0 and up\n",
              "4069    ESPN   SPORTS     4.2  ...  July 19, 2018  Varies with device  5.0 and up\n",
              "1653  ROBLOX     GAME     4.5  ...  July 31, 2018        2.347.225742  4.1 and up\n",
              "1701  ROBLOX     GAME     4.5  ...  July 31, 2018        2.347.225742  4.1 and up\n",
              "1748  ROBLOX     GAME     4.5  ...  July 31, 2018        2.347.225742  4.1 and up\n",
              "1841  ROBLOX     GAME     4.5  ...  July 31, 2018        2.347.225742  4.1 and up\n",
              "1870  ROBLOX     GAME     4.5  ...  July 31, 2018        2.347.225742  4.1 and up\n",
              "2016  ROBLOX   FAMILY     4.5  ...  July 31, 2018        2.347.225742  4.1 and up\n",
              "2088  ROBLOX   FAMILY     4.5  ...  July 31, 2018        2.347.225742  4.1 and up\n",
              "2206  ROBLOX   FAMILY     4.5  ...  July 31, 2018        2.347.225742  4.1 and up\n",
              "4527  ROBLOX   FAMILY     4.5  ...  July 31, 2018        2.347.225742  4.1 and up\n",
              "\n",
              "[16 rows x 13 columns]"
            ]
          },
          "metadata": {
            "tags": []
          },
          "execution_count": 18
        }
      ]
    },
    {
      "cell_type": "markdown",
      "metadata": {
        "id": "VcAVCEW9EMlR"
      },
      "source": [
        "We can see that these apps are duplicated with a minor differene in no.of Reviews observed. We can go ahead and remove them."
      ]
    },
    {
      "cell_type": "code",
      "metadata": {
        "id": "pbAjyMUUB_oJ"
      },
      "source": [
        "# drop all duplicated records\n",
        "app.drop_duplicates(subset='App',inplace=True)"
      ],
      "execution_count": null,
      "outputs": []
    },
    {
      "cell_type": "code",
      "metadata": {
        "id": "BWJGwhLKT-6O"
      },
      "source": [
        "# app[app.duplicated()]\n",
        "# it shows no duplicates"
      ],
      "execution_count": null,
      "outputs": []
    },
    {
      "cell_type": "code",
      "metadata": {
        "id": "P9URyUVvUHC5",
        "outputId": "a1b1ed5d-aac0-4e8e-b936-77c4ae20105b",
        "colab": {
          "base_uri": "https://localhost:8080/",
          "height": 221
        }
      },
      "source": [
        "# it shows no duplicates\n",
        "app.App.value_counts()"
      ],
      "execution_count": null,
      "outputs": [
        {
          "output_type": "execute_result",
          "data": {
            "text/plain": [
              "Silence Premium Do Not Disturb    1\n",
              "C Pattern Programs Free           1\n",
              "K PLUS                            1\n",
              "Curriculum Vitae - Resume CV      1\n",
              "101 C Programming Problems        1\n",
              "                                 ..\n",
              "How Old am I?                     1\n",
              "Grenada Co-operative Bank         1\n",
              "Blibli.com Online Shopping        1\n",
              "Plugin:AOT v5.0                   1\n",
              "BI Mobile Banking                 1\n",
              "Name: App, Length: 9660, dtype: int64"
            ]
          },
          "metadata": {
            "tags": []
          },
          "execution_count": 21
        }
      ]
    },
    {
      "cell_type": "code",
      "metadata": {
        "id": "E1Z7lXgLUQdx",
        "outputId": "5ba29944-6f89-4a98-b657-6279fb3857a1",
        "colab": {
          "base_uri": "https://localhost:8080/",
          "height": 34
        }
      },
      "source": [
        "print('{}% of records were duplicates'.format((round(1 - (app.shape[0] / 10841),3)* 100)))"
      ],
      "execution_count": null,
      "outputs": [
        {
          "output_type": "stream",
          "text": [
            "10.9% of records were duplicates\n"
          ],
          "name": "stdout"
        }
      ]
    },
    {
      "cell_type": "code",
      "metadata": {
        "id": "HCKBsjc2gRJi",
        "outputId": "7e64c134-515e-42b1-9290-795ea4c73d86",
        "colab": {
          "base_uri": "https://localhost:8080/",
          "height": 170
        }
      },
      "source": [
        "app.Category.unique()\n",
        "# a category 1.9 looks suspicious"
      ],
      "execution_count": null,
      "outputs": [
        {
          "output_type": "execute_result",
          "data": {
            "text/plain": [
              "array(['ART_AND_DESIGN', 'AUTO_AND_VEHICLES', 'BEAUTY',\n",
              "       'BOOKS_AND_REFERENCE', 'BUSINESS', 'COMICS', 'COMMUNICATION',\n",
              "       'DATING', 'EDUCATION', 'ENTERTAINMENT', 'EVENTS', 'FINANCE',\n",
              "       'FOOD_AND_DRINK', 'HEALTH_AND_FITNESS', 'HOUSE_AND_HOME',\n",
              "       'LIBRARIES_AND_DEMO', 'LIFESTYLE', 'GAME', 'FAMILY', 'MEDICAL',\n",
              "       'SOCIAL', 'SHOPPING', 'PHOTOGRAPHY', 'SPORTS', 'TRAVEL_AND_LOCAL',\n",
              "       'TOOLS', 'PERSONALIZATION', 'PRODUCTIVITY', 'PARENTING', 'WEATHER',\n",
              "       'VIDEO_PLAYERS', 'NEWS_AND_MAGAZINES', 'MAPS_AND_NAVIGATION',\n",
              "       '1.9'], dtype=object)"
            ]
          },
          "metadata": {
            "tags": []
          },
          "execution_count": 23
        }
      ]
    },
    {
      "cell_type": "code",
      "metadata": {
        "id": "MqTA4dNth9jN",
        "outputId": "8701d27f-00c0-407c-f09e-389a2b4a8f16",
        "colab": {
          "base_uri": "https://localhost:8080/",
          "height": 816
        }
      },
      "source": [
        "app.Genres.unique()\n",
        "# even in Genre we see a suspicious value('February 11, 2018'),lets what are those records"
      ],
      "execution_count": null,
      "outputs": [
        {
          "output_type": "execute_result",
          "data": {
            "text/plain": [
              "array(['Art & Design', 'Art & Design;Pretend Play',\n",
              "       'Art & Design;Creativity', 'Art & Design;Action & Adventure',\n",
              "       'Auto & Vehicles', 'Beauty', 'Books & Reference', 'Business',\n",
              "       'Comics', 'Comics;Creativity', 'Communication', 'Dating',\n",
              "       'Education;Education', 'Education', 'Education;Creativity',\n",
              "       'Education;Music & Video', 'Education;Action & Adventure',\n",
              "       'Education;Pretend Play', 'Education;Brain Games', 'Entertainment',\n",
              "       'Entertainment;Music & Video', 'Entertainment;Brain Games',\n",
              "       'Entertainment;Creativity', 'Events', 'Finance', 'Food & Drink',\n",
              "       'Health & Fitness', 'House & Home', 'Libraries & Demo',\n",
              "       'Lifestyle', 'Lifestyle;Pretend Play',\n",
              "       'Adventure;Action & Adventure', 'Arcade', 'Casual', 'Card',\n",
              "       'Casual;Pretend Play', 'Action', 'Strategy', 'Puzzle', 'Sports',\n",
              "       'Music', 'Word', 'Racing', 'Casual;Creativity',\n",
              "       'Casual;Action & Adventure', 'Simulation', 'Adventure', 'Board',\n",
              "       'Trivia', 'Role Playing', 'Simulation;Education',\n",
              "       'Action;Action & Adventure', 'Casual;Brain Games',\n",
              "       'Simulation;Action & Adventure', 'Educational;Creativity',\n",
              "       'Puzzle;Brain Games', 'Educational;Education',\n",
              "       'Educational;Brain Games', 'Educational;Pretend Play',\n",
              "       'Entertainment;Education', 'Casual;Education',\n",
              "       'Music;Music & Video', 'Racing;Action & Adventure',\n",
              "       'Arcade;Pretend Play', 'Role Playing;Action & Adventure',\n",
              "       'Simulation;Pretend Play', 'Puzzle;Creativity',\n",
              "       'Sports;Action & Adventure', 'Educational;Action & Adventure',\n",
              "       'Arcade;Action & Adventure', 'Entertainment;Action & Adventure',\n",
              "       'Puzzle;Action & Adventure', 'Strategy;Action & Adventure',\n",
              "       'Music & Audio;Music & Video', 'Health & Fitness;Education',\n",
              "       'Adventure;Education', 'Board;Brain Games',\n",
              "       'Board;Action & Adventure', 'Board;Pretend Play',\n",
              "       'Casual;Music & Video', 'Role Playing;Pretend Play',\n",
              "       'Entertainment;Pretend Play', 'Video Players & Editors;Creativity',\n",
              "       'Card;Action & Adventure', 'Medical', 'Social', 'Shopping',\n",
              "       'Photography', 'Travel & Local',\n",
              "       'Travel & Local;Action & Adventure', 'Tools', 'Tools;Education',\n",
              "       'Personalization', 'Productivity', 'Parenting',\n",
              "       'Parenting;Music & Video', 'Parenting;Education',\n",
              "       'Parenting;Brain Games', 'Weather', 'Video Players & Editors',\n",
              "       'Video Players & Editors;Music & Video', 'News & Magazines',\n",
              "       'Maps & Navigation', 'Health & Fitness;Action & Adventure',\n",
              "       'Educational', 'Casino', 'Adventure;Brain Games',\n",
              "       'Trivia;Education', 'Lifestyle;Education',\n",
              "       'Books & Reference;Creativity', 'Books & Reference;Education',\n",
              "       'Puzzle;Education', 'Role Playing;Education',\n",
              "       'Role Playing;Brain Games', 'Strategy;Education',\n",
              "       'Racing;Pretend Play', 'Communication;Creativity',\n",
              "       'February 11, 2018', 'Strategy;Creativity'], dtype=object)"
            ]
          },
          "metadata": {
            "tags": []
          },
          "execution_count": 24
        }
      ]
    },
    {
      "cell_type": "code",
      "metadata": {
        "id": "p7ZetcXOhgh0",
        "outputId": "56d4b6e9-d0db-429f-e63c-a63092b3537a",
        "colab": {
          "base_uri": "https://localhost:8080/",
          "height": 114
        }
      },
      "source": [
        "app.query('Category == \"1.9\"')\n",
        "# both suspicious values are from same record, seems like error in data entry"
      ],
      "execution_count": null,
      "outputs": [
        {
          "output_type": "execute_result",
          "data": {
            "text/html": [
              "<div>\n",
              "<style scoped>\n",
              "    .dataframe tbody tr th:only-of-type {\n",
              "        vertical-align: middle;\n",
              "    }\n",
              "\n",
              "    .dataframe tbody tr th {\n",
              "        vertical-align: top;\n",
              "    }\n",
              "\n",
              "    .dataframe thead th {\n",
              "        text-align: right;\n",
              "    }\n",
              "</style>\n",
              "<table border=\"1\" class=\"dataframe\">\n",
              "  <thead>\n",
              "    <tr style=\"text-align: right;\">\n",
              "      <th></th>\n",
              "      <th>App</th>\n",
              "      <th>Category</th>\n",
              "      <th>Rating</th>\n",
              "      <th>Reviews</th>\n",
              "      <th>Size</th>\n",
              "      <th>Installs</th>\n",
              "      <th>Type</th>\n",
              "      <th>Price</th>\n",
              "      <th>Content Rating</th>\n",
              "      <th>Genres</th>\n",
              "      <th>Last Updated</th>\n",
              "      <th>Current Ver</th>\n",
              "      <th>Android Ver</th>\n",
              "    </tr>\n",
              "  </thead>\n",
              "  <tbody>\n",
              "    <tr>\n",
              "      <th>10472</th>\n",
              "      <td>Life Made WI-Fi Touchscreen Photo Frame</td>\n",
              "      <td>1.9</td>\n",
              "      <td>19.0</td>\n",
              "      <td>3.0M</td>\n",
              "      <td>1,000+</td>\n",
              "      <td>Free</td>\n",
              "      <td>0</td>\n",
              "      <td>Everyone</td>\n",
              "      <td>NaN</td>\n",
              "      <td>February 11, 2018</td>\n",
              "      <td>1.0.19</td>\n",
              "      <td>4.0 and up</td>\n",
              "      <td>NaN</td>\n",
              "    </tr>\n",
              "  </tbody>\n",
              "</table>\n",
              "</div>"
            ],
            "text/plain": [
              "                                           App Category  ...  Current Ver Android Ver\n",
              "10472  Life Made WI-Fi Touchscreen Photo Frame      1.9  ...   4.0 and up         NaN\n",
              "\n",
              "[1 rows x 13 columns]"
            ]
          },
          "metadata": {
            "tags": []
          },
          "execution_count": 25
        }
      ]
    },
    {
      "cell_type": "code",
      "metadata": {
        "id": "Wp75Z0Znhz4-"
      },
      "source": [
        "# delete the record\n",
        "app.drop(index=[10472],inplace=True)"
      ],
      "execution_count": null,
      "outputs": []
    },
    {
      "cell_type": "code",
      "metadata": {
        "id": "W_obV4kJjKxI",
        "outputId": "6ae0d5d4-5515-4adb-cd04-087817a7f71b",
        "colab": {
          "base_uri": "https://localhost:8080/",
          "height": 49
        }
      },
      "source": [
        "app.query('Category == \"1.9\"')\n",
        "# record is dropped"
      ],
      "execution_count": null,
      "outputs": [
        {
          "output_type": "execute_result",
          "data": {
            "text/html": [
              "<div>\n",
              "<style scoped>\n",
              "    .dataframe tbody tr th:only-of-type {\n",
              "        vertical-align: middle;\n",
              "    }\n",
              "\n",
              "    .dataframe tbody tr th {\n",
              "        vertical-align: top;\n",
              "    }\n",
              "\n",
              "    .dataframe thead th {\n",
              "        text-align: right;\n",
              "    }\n",
              "</style>\n",
              "<table border=\"1\" class=\"dataframe\">\n",
              "  <thead>\n",
              "    <tr style=\"text-align: right;\">\n",
              "      <th></th>\n",
              "      <th>App</th>\n",
              "      <th>Category</th>\n",
              "      <th>Rating</th>\n",
              "      <th>Reviews</th>\n",
              "      <th>Size</th>\n",
              "      <th>Installs</th>\n",
              "      <th>Type</th>\n",
              "      <th>Price</th>\n",
              "      <th>Content Rating</th>\n",
              "      <th>Genres</th>\n",
              "      <th>Last Updated</th>\n",
              "      <th>Current Ver</th>\n",
              "      <th>Android Ver</th>\n",
              "    </tr>\n",
              "  </thead>\n",
              "  <tbody>\n",
              "  </tbody>\n",
              "</table>\n",
              "</div>"
            ],
            "text/plain": [
              "Empty DataFrame\n",
              "Columns: [App, Category, Rating, Reviews, Size, Installs, Type, Price, Content Rating, Genres, Last Updated, Current Ver, Android Ver]\n",
              "Index: []"
            ]
          },
          "metadata": {
            "tags": []
          },
          "execution_count": 27
        }
      ]
    },
    {
      "cell_type": "code",
      "metadata": {
        "id": "BIAuHzcVjNX7"
      },
      "source": [
        "import matplotlib.pyplot as plt\n",
        "%matplotlib inline\n",
        "import seaborn as sns"
      ],
      "execution_count": null,
      "outputs": []
    },
    {
      "cell_type": "code",
      "metadata": {
        "id": "lcfofhvRkp4B",
        "outputId": "c3db7c0f-8fb6-44f1-c282-9914aebfeb28",
        "colab": {
          "base_uri": "https://localhost:8080/",
          "height": 435
        }
      },
      "source": [
        "p = sns.set(style=\"darkgrid\")\n",
        "p = sns.countplot(x='Category',data=app)\n",
        "_ = plt.setp(p.get_xticklabels(), rotation=90)  # Rotate labels\n",
        "plt.title('App Category',size = 20);"
      ],
      "execution_count": null,
      "outputs": [
        {
          "output_type": "display_data",
          "data": {
            "image/png": "[encoded data removed]",
            "text/plain": [
              "<Figure size 432x288 with 1 Axes>"
            ]
          },
          "metadata": {
            "tags": []
          }
        }
      ]
    },
    {
      "cell_type": "code",
      "metadata": {
        "id": "31cTxLuLmPOv",
        "outputId": "14535172-bbfb-479b-ac41-665df06eeef4",
        "colab": {
          "base_uri": "https://localhost:8080/",
          "height": 34
        }
      },
      "source": [
        "len(app.Category[app.Category.isin(['TOOLS','FAMILY','GAME'])]) / len(app)"
      ],
      "execution_count": null,
      "outputs": [
        {
          "output_type": "execute_result",
          "data": {
            "text/plain": [
              "0.3745729371570556"
            ]
          },
          "metadata": {
            "tags": []
          },
          "execution_count": 30
        }
      ]
    },
    {
      "cell_type": "markdown",
      "metadata": {
        "id": "wJAZ2k1Hl4eD"
      },
      "source": [
        "Most of the applicatons belongs to Family, Game and tools, almost 37% of the apps are from top 3 categories."
      ]
    },
    {
      "cell_type": "code",
      "metadata": {
        "id": "TXoxn_HVooCu",
        "outputId": "51658504-e853-44f8-f4ff-058dc5ecbb17",
        "colab": {
          "base_uri": "https://localhost:8080/",
          "height": 170
        }
      },
      "source": [
        "app.Rating.describe()"
      ],
      "execution_count": null,
      "outputs": [
        {
          "output_type": "execute_result",
          "data": {
            "text/plain": [
              "count    8196.000000\n",
              "mean        4.173243\n",
              "std         0.536625\n",
              "min         1.000000\n",
              "25%         4.000000\n",
              "50%         4.300000\n",
              "75%         4.500000\n",
              "max         5.000000\n",
              "Name: Rating, dtype: float64"
            ]
          },
          "metadata": {
            "tags": []
          },
          "execution_count": 31
        }
      ]
    },
    {
      "cell_type": "markdown",
      "metadata": {
        "id": "SxxWBUakpJbE"
      },
      "source": [
        "The rating is on a scale on 1-5, with 1 being minimum and 5 being maximum. The mean rating is 4.17 and the median rating is 4.3, i.e average rating is above 4.17"
      ]
    },
    {
      "cell_type": "code",
      "metadata": {
        "id": "ebcy90wUrRsP",
        "outputId": "d52486b7-df90-400d-aded-3aa3ab9e94b4",
        "colab": {
          "base_uri": "https://localhost:8080/",
          "height": 302
        }
      },
      "source": [
        "sns.kdeplot(app.Rating,shade=True)"
      ],
      "execution_count": null,
      "outputs": [
        {
          "output_type": "execute_result",
          "data": {
            "text/plain": [
              "<matplotlib.axes._subplots.AxesSubplot at 0x7febf715c940>"
            ]
          },
          "metadata": {
            "tags": []
          },
          "execution_count": 32
        },
        {
          "output_type": "display_data",
          "data": {
            "image/png": "[encoded data removed]",
            "text/plain": [
              "<Figure size 432x288 with 1 Axes>"
            ]
          },
          "metadata": {
            "tags": []
          }
        }
      ]
    },
    {
      "cell_type": "code",
      "metadata": {
        "id": "kVdl6_fZonIQ",
        "outputId": "fd2775e0-0094-477b-f092-904deee03744",
        "colab": {
          "base_uri": "https://localhost:8080/",
          "height": 255
        }
      },
      "source": [
        "app.isna().sum()"
      ],
      "execution_count": null,
      "outputs": [
        {
          "output_type": "execute_result",
          "data": {
            "text/plain": [
              "App                  0\n",
              "Category             0\n",
              "Rating            1463\n",
              "Reviews              0\n",
              "Size                 0\n",
              "Installs             0\n",
              "Type                 1\n",
              "Price                0\n",
              "Content Rating       0\n",
              "Genres               0\n",
              "Last Updated         0\n",
              "Current Ver          8\n",
              "Android Ver          2\n",
              "dtype: int64"
            ]
          },
          "metadata": {
            "tags": []
          },
          "execution_count": 33
        }
      ]
    },
    {
      "cell_type": "code",
      "metadata": {
        "id": "DajQlcbmkzAH"
      },
      "source": [
        "# drop rating NA's\n",
        "#TODO : USE IMPUTERS TO FILL NA's\n",
        "app.dropna(subset=['Rating'],inplace=True)"
      ],
      "execution_count": null,
      "outputs": []
    },
    {
      "cell_type": "code",
      "metadata": {
        "id": "w8vWp3s1t_Eb",
        "outputId": "50e9f8f4-45ff-49c1-857b-cbfb3b2f9b6f",
        "colab": {
          "base_uri": "https://localhost:8080/",
          "height": 255
        }
      },
      "source": [
        "app.isna().sum()"
      ],
      "execution_count": null,
      "outputs": [
        {
          "output_type": "execute_result",
          "data": {
            "text/plain": [
              "App               0\n",
              "Category          0\n",
              "Rating            0\n",
              "Reviews           0\n",
              "Size              0\n",
              "Installs          0\n",
              "Type              0\n",
              "Price             0\n",
              "Content Rating    0\n",
              "Genres            0\n",
              "Last Updated      0\n",
              "Current Ver       4\n",
              "Android Ver       2\n",
              "dtype: int64"
            ]
          },
          "metadata": {
            "tags": []
          },
          "execution_count": 35
        }
      ]
    },
    {
      "cell_type": "code",
      "metadata": {
        "id": "28YKLrJ4uBSI"
      },
      "source": [
        "#convert ratings to high and low categories.\n",
        "app['Rating_cat'] = app.Rating.apply(lambda x : 'High' if x >= 3.5 else 'Low')"
      ],
      "execution_count": null,
      "outputs": []
    },
    {
      "cell_type": "code",
      "metadata": {
        "id": "duhnVyEQvFZR",
        "outputId": "e37ed67f-7d50-429c-d186-9ff6def711d0",
        "colab": {
          "base_uri": "https://localhost:8080/",
          "height": 179
        }
      },
      "source": [
        "app.sample(2)"
      ],
      "execution_count": null,
      "outputs": [
        {
          "output_type": "execute_result",
          "data": {
            "text/html": [
              "<div>\n",
              "<style scoped>\n",
              "    .dataframe tbody tr th:only-of-type {\n",
              "        vertical-align: middle;\n",
              "    }\n",
              "\n",
              "    .dataframe tbody tr th {\n",
              "        vertical-align: top;\n",
              "    }\n",
              "\n",
              "    .dataframe thead th {\n",
              "        text-align: right;\n",
              "    }\n",
              "</style>\n",
              "<table border=\"1\" class=\"dataframe\">\n",
              "  <thead>\n",
              "    <tr style=\"text-align: right;\">\n",
              "      <th></th>\n",
              "      <th>App</th>\n",
              "      <th>Category</th>\n",
              "      <th>Rating</th>\n",
              "      <th>Reviews</th>\n",
              "      <th>Size</th>\n",
              "      <th>Installs</th>\n",
              "      <th>Type</th>\n",
              "      <th>Price</th>\n",
              "      <th>Content Rating</th>\n",
              "      <th>Genres</th>\n",
              "      <th>Last Updated</th>\n",
              "      <th>Current Ver</th>\n",
              "      <th>Android Ver</th>\n",
              "      <th>Rating_cat</th>\n",
              "    </tr>\n",
              "  </thead>\n",
              "  <tbody>\n",
              "    <tr>\n",
              "      <th>9328</th>\n",
              "      <td>EG Movi</td>\n",
              "      <td>TOOLS</td>\n",
              "      <td>4.2</td>\n",
              "      <td>40</td>\n",
              "      <td>7.4M</td>\n",
              "      <td>1,000+</td>\n",
              "      <td>Free</td>\n",
              "      <td>0</td>\n",
              "      <td>Everyone</td>\n",
              "      <td>Tools</td>\n",
              "      <td>May 12, 2017</td>\n",
              "      <td>0.9.1</td>\n",
              "      <td>3.2 and up</td>\n",
              "      <td>High</td>\n",
              "    </tr>\n",
              "    <tr>\n",
              "      <th>3825</th>\n",
              "      <td>Transit: Real-Time Transit App</td>\n",
              "      <td>MAPS_AND_NAVIGATION</td>\n",
              "      <td>4.2</td>\n",
              "      <td>43269</td>\n",
              "      <td>Varies with device</td>\n",
              "      <td>5,000,000+</td>\n",
              "      <td>Free</td>\n",
              "      <td>0</td>\n",
              "      <td>Everyone</td>\n",
              "      <td>Maps &amp; Navigation</td>\n",
              "      <td>July 18, 2018</td>\n",
              "      <td>4.4.7</td>\n",
              "      <td>Varies with device</td>\n",
              "      <td>High</td>\n",
              "    </tr>\n",
              "  </tbody>\n",
              "</table>\n",
              "</div>"
            ],
            "text/plain": [
              "                                 App  ... Rating_cat\n",
              "9328                         EG Movi  ...       High\n",
              "3825  Transit: Real-Time Transit App  ...       High\n",
              "\n",
              "[2 rows x 14 columns]"
            ]
          },
          "metadata": {
            "tags": []
          },
          "execution_count": 37
        }
      ]
    },
    {
      "cell_type": "code",
      "metadata": {
        "id": "xHBWtcZ4vJzI",
        "outputId": "2ce23fe4-7851-4b33-e8d7-7e68e314f9da",
        "colab": {
          "base_uri": "https://localhost:8080/",
          "height": 34
        }
      },
      "source": [
        "app.shape"
      ],
      "execution_count": null,
      "outputs": [
        {
          "output_type": "execute_result",
          "data": {
            "text/plain": [
              "(8196, 14)"
            ]
          },
          "metadata": {
            "tags": []
          },
          "execution_count": 38
        }
      ]
    },
    {
      "cell_type": "code",
      "metadata": {
        "id": "w6J1IdogDkXb",
        "outputId": "d4f762e7-9e6e-4474-d269-17de4be564c1",
        "colab": {
          "base_uri": "https://localhost:8080/",
          "height": 68
        }
      },
      "source": [
        "app.Rating_cat.value_counts(normalize=True)"
      ],
      "execution_count": null,
      "outputs": [
        {
          "output_type": "execute_result",
          "data": {
            "text/plain": [
              "High    0.912396\n",
              "Low     0.087604\n",
              "Name: Rating_cat, dtype: float64"
            ]
          },
          "metadata": {
            "tags": []
          },
          "execution_count": 39
        }
      ]
    },
    {
      "cell_type": "code",
      "metadata": {
        "id": "YJkxqxGt3Tht",
        "outputId": "803e76ad-768a-4791-e6c8-42a04d814924",
        "colab": {
          "base_uri": "https://localhost:8080/",
          "height": 285
        }
      },
      "source": [
        "plot = sns.countplot(app.Rating_cat, edgecolor = 'black', palette = [ '#00C851','#ff4444'])\n",
        "\n",
        "bars = plot.patches\n",
        "plot.annotate(bars[0].get_height(), (0, bars[0].get_height()/2),\n",
        "              ha = 'center', fontsize = 15, color = 'black')\n",
        "\n",
        "plot.annotate(bars[1].get_height(), (1, bars[1].get_height()/2),\n",
        "              ha = 'center', fontsize = 15, color = 'black')\n",
        "\n",
        "plt.show()\n"
      ],
      "execution_count": null,
      "outputs": [
        {
          "output_type": "display_data",
          "data": {
            "image/png": "[encoded data removed]",
            "text/plain": [
              "<Figure size 432x288 with 1 Axes>"
            ]
          },
          "metadata": {
            "tags": []
          }
        }
      ]
    },
    {
      "cell_type": "code",
      "metadata": {
        "id": "Q3rCTv1u5CSm"
      },
      "source": [
        "# Convert Reviews to numeric\n",
        "app.Reviews = app.Reviews.astype('int') "
      ],
      "execution_count": null,
      "outputs": []
    },
    {
      "cell_type": "code",
      "metadata": {
        "id": "D1Sg2ing5PVD",
        "outputId": "edee3b07-4b62-4da2-c0f8-48f876c4f07c",
        "colab": {
          "base_uri": "https://localhost:8080/",
          "height": 374
        }
      },
      "source": [
        "app.info()"
      ],
      "execution_count": null,
      "outputs": [
        {
          "output_type": "stream",
          "text": [
            "<class 'pandas.core.frame.DataFrame'>\n",
            "Int64Index: 8196 entries, 0 to 10840\n",
            "Data columns (total 14 columns):\n",
            " #   Column          Non-Null Count  Dtype  \n",
            "---  ------          --------------  -----  \n",
            " 0   App             8196 non-null   object \n",
            " 1   Category        8196 non-null   object \n",
            " 2   Rating          8196 non-null   float64\n",
            " 3   Reviews         8196 non-null   int64  \n",
            " 4   Size            8196 non-null   object \n",
            " 5   Installs        8196 non-null   object \n",
            " 6   Type            8196 non-null   object \n",
            " 7   Price           8196 non-null   object \n",
            " 8   Content Rating  8196 non-null   object \n",
            " 9   Genres          8196 non-null   object \n",
            " 10  Last Updated    8196 non-null   object \n",
            " 11  Current Ver     8192 non-null   object \n",
            " 12  Android Ver     8194 non-null   object \n",
            " 13  Rating_cat      8196 non-null   object \n",
            "dtypes: float64(1), int64(1), object(12)\n",
            "memory usage: 1.3+ MB\n"
          ],
          "name": "stdout"
        }
      ]
    },
    {
      "cell_type": "code",
      "metadata": {
        "id": "Bhy6ug1J553S",
        "outputId": "785bbe1a-188b-4550-92a3-65d418c36902",
        "colab": {
          "base_uri": "https://localhost:8080/",
          "height": 306
        }
      },
      "source": [
        "# Review distibution \n",
        "g = sns.kdeplot(app.Reviews,shade=True,color='blue')\n",
        "g.set_xlabel(\"Reviews\")\n",
        "g.set_ylabel(\"Frequency\")\n",
        "plt.title('Distribution of Review',size = 20);"
      ],
      "execution_count": null,
      "outputs": [
        {
          "output_type": "display_data",
          "data": {
            "image/png": "[encoded data removed]",
            "text/plain": [
              "<Figure size 432x288 with 1 Axes>"
            ]
          },
          "metadata": {
            "tags": []
          }
        }
      ]
    },
    {
      "cell_type": "code",
      "metadata": {
        "id": "xjEcXGkxL8wQ",
        "outputId": "3a6e7d05-0062-462a-be0f-19a747d665f0",
        "colab": {
          "base_uri": "https://localhost:8080/",
          "height": 119
        }
      },
      "source": [
        "app.Reviews.head()"
      ],
      "execution_count": null,
      "outputs": [
        {
          "output_type": "execute_result",
          "data": {
            "text/plain": [
              "0       159\n",
              "1       967\n",
              "2     87510\n",
              "3    215644\n",
              "4       967\n",
              "Name: Reviews, dtype: int64"
            ]
          },
          "metadata": {
            "tags": []
          },
          "execution_count": 44
        }
      ]
    },
    {
      "cell_type": "code",
      "metadata": {
        "id": "WI1rRNrIRcRS",
        "outputId": "4d34145b-c564-44a1-8659-72cb37f14d0e",
        "colab": {
          "base_uri": "https://localhost:8080/",
          "height": 374
        }
      },
      "source": [
        "app.sort_values(by='Reviews',ascending=False).head()"
      ],
      "execution_count": null,
      "outputs": [
        {
          "output_type": "execute_result",
          "data": {
            "text/html": [
              "<div>\n",
              "<style scoped>\n",
              "    .dataframe tbody tr th:only-of-type {\n",
              "        vertical-align: middle;\n",
              "    }\n",
              "\n",
              "    .dataframe tbody tr th {\n",
              "        vertical-align: top;\n",
              "    }\n",
              "\n",
              "    .dataframe thead th {\n",
              "        text-align: right;\n",
              "    }\n",
              "</style>\n",
              "<table border=\"1\" class=\"dataframe\">\n",
              "  <thead>\n",
              "    <tr style=\"text-align: right;\">\n",
              "      <th></th>\n",
              "      <th>App</th>\n",
              "      <th>Category</th>\n",
              "      <th>Rating</th>\n",
              "      <th>Reviews</th>\n",
              "      <th>Size</th>\n",
              "      <th>Installs</th>\n",
              "      <th>Type</th>\n",
              "      <th>Price</th>\n",
              "      <th>Content Rating</th>\n",
              "      <th>Genres</th>\n",
              "      <th>Last Updated</th>\n",
              "      <th>Current Ver</th>\n",
              "      <th>Android Ver</th>\n",
              "      <th>Rating_cat</th>\n",
              "    </tr>\n",
              "  </thead>\n",
              "  <tbody>\n",
              "    <tr>\n",
              "      <th>2544</th>\n",
              "      <td>Facebook</td>\n",
              "      <td>SOCIAL</td>\n",
              "      <td>4.1</td>\n",
              "      <td>78158306</td>\n",
              "      <td>Varies with device</td>\n",
              "      <td>1,000,000,000+</td>\n",
              "      <td>Free</td>\n",
              "      <td>0</td>\n",
              "      <td>Teen</td>\n",
              "      <td>Social</td>\n",
              "      <td>August 3, 2018</td>\n",
              "      <td>Varies with device</td>\n",
              "      <td>Varies with device</td>\n",
              "      <td>High</td>\n",
              "    </tr>\n",
              "    <tr>\n",
              "      <th>336</th>\n",
              "      <td>WhatsApp Messenger</td>\n",
              "      <td>COMMUNICATION</td>\n",
              "      <td>4.4</td>\n",
              "      <td>69119316</td>\n",
              "      <td>Varies with device</td>\n",
              "      <td>1,000,000,000+</td>\n",
              "      <td>Free</td>\n",
              "      <td>0</td>\n",
              "      <td>Everyone</td>\n",
              "      <td>Communication</td>\n",
              "      <td>August 3, 2018</td>\n",
              "      <td>Varies with device</td>\n",
              "      <td>Varies with device</td>\n",
              "      <td>High</td>\n",
              "    </tr>\n",
              "    <tr>\n",
              "      <th>2545</th>\n",
              "      <td>Instagram</td>\n",
              "      <td>SOCIAL</td>\n",
              "      <td>4.5</td>\n",
              "      <td>66577313</td>\n",
              "      <td>Varies with device</td>\n",
              "      <td>1,000,000,000+</td>\n",
              "      <td>Free</td>\n",
              "      <td>0</td>\n",
              "      <td>Teen</td>\n",
              "      <td>Social</td>\n",
              "      <td>July 31, 2018</td>\n",
              "      <td>Varies with device</td>\n",
              "      <td>Varies with device</td>\n",
              "      <td>High</td>\n",
              "    </tr>\n",
              "    <tr>\n",
              "      <th>335</th>\n",
              "      <td>Messenger – Text and Video Chat for Free</td>\n",
              "      <td>COMMUNICATION</td>\n",
              "      <td>4.0</td>\n",
              "      <td>56642847</td>\n",
              "      <td>Varies with device</td>\n",
              "      <td>1,000,000,000+</td>\n",
              "      <td>Free</td>\n",
              "      <td>0</td>\n",
              "      <td>Everyone</td>\n",
              "      <td>Communication</td>\n",
              "      <td>August 1, 2018</td>\n",
              "      <td>Varies with device</td>\n",
              "      <td>Varies with device</td>\n",
              "      <td>High</td>\n",
              "    </tr>\n",
              "    <tr>\n",
              "      <th>1670</th>\n",
              "      <td>Clash of Clans</td>\n",
              "      <td>GAME</td>\n",
              "      <td>4.6</td>\n",
              "      <td>44891723</td>\n",
              "      <td>98M</td>\n",
              "      <td>100,000,000+</td>\n",
              "      <td>Free</td>\n",
              "      <td>0</td>\n",
              "      <td>Everyone 10+</td>\n",
              "      <td>Strategy</td>\n",
              "      <td>July 15, 2018</td>\n",
              "      <td>10.322.16</td>\n",
              "      <td>4.1 and up</td>\n",
              "      <td>High</td>\n",
              "    </tr>\n",
              "  </tbody>\n",
              "</table>\n",
              "</div>"
            ],
            "text/plain": [
              "                                           App  ... Rating_cat\n",
              "2544                                  Facebook  ...       High\n",
              "336                         WhatsApp Messenger  ...       High\n",
              "2545                                 Instagram  ...       High\n",
              "335   Messenger – Text and Video Chat for Free  ...       High\n",
              "1670                            Clash of Clans  ...       High\n",
              "\n",
              "[5 rows x 14 columns]"
            ]
          },
          "metadata": {
            "tags": []
          },
          "execution_count": 45
        }
      ]
    },
    {
      "cell_type": "markdown",
      "metadata": {
        "id": "3dbUap59SMps"
      },
      "source": [
        "As we can see Facebook, Whatsapp, Instagram and messenger have highest reviews.\n",
        "All these apps are freely available and social and communication."
      ]
    },
    {
      "cell_type": "code",
      "metadata": {
        "id": "117De5NaSGfL",
        "outputId": "5f5e8104-6112-4cd7-c7cd-a0a14878306e",
        "colab": {
          "base_uri": "https://localhost:8080/",
          "height": 119
        }
      },
      "source": [
        "app.Size.value_counts().head()"
      ],
      "execution_count": null,
      "outputs": [
        {
          "output_type": "execute_result",
          "data": {
            "text/plain": [
              "Varies with device    1169\n",
              "14M                    149\n",
              "12M                    146\n",
              "11M                    144\n",
              "13M                    143\n",
              "Name: Size, dtype: int64"
            ]
          },
          "metadata": {
            "tags": []
          },
          "execution_count": 46
        }
      ]
    },
    {
      "cell_type": "code",
      "metadata": {
        "id": "pgHu1uRtjwfl"
      },
      "source": [
        "app1 = app.copy()"
      ],
      "execution_count": null,
      "outputs": []
    },
    {
      "cell_type": "code",
      "metadata": {
        "id": "Lqw8KdDAj25s",
        "outputId": "a813d0aa-9a14-427d-f499-95941038f23c",
        "colab": {
          "base_uri": "https://localhost:8080/",
          "height": 34
        }
      },
      "source": [
        "app.shape"
      ],
      "execution_count": null,
      "outputs": [
        {
          "output_type": "execute_result",
          "data": {
            "text/plain": [
              "(8196, 14)"
            ]
          },
          "metadata": {
            "tags": []
          },
          "execution_count": 48
        }
      ]
    },
    {
      "cell_type": "code",
      "metadata": {
        "id": "R60xenjcS4ye",
        "outputId": "3f0c7b65-e5c4-4210-a33a-70983aca9c55",
        "colab": {
          "base_uri": "https://localhost:8080/",
          "height": 51
        }
      },
      "source": [
        "kb_index = app1.Size[app1.Size.str.contains('k')].index\n",
        "mb_index = app1.Size[(app1.Size.str.contains('M'))].index\n",
        "print(f\"No.of App's in KB's : {len(kb_index)}\")\n",
        "print(f\"No.of App's in MB's : {len(mb_index)}\")"
      ],
      "execution_count": null,
      "outputs": [
        {
          "output_type": "stream",
          "text": [
            "No.of App's in KB's : 256\n",
            "No.of App's in MB's : 6771\n"
          ],
          "name": "stdout"
        }
      ]
    },
    {
      "cell_type": "code",
      "metadata": {
        "id": "T7UUcw-5T_17"
      },
      "source": [
        "# convert app size in KB's\n",
        "app1.Size = app1.Size.str.replace('M','')\n",
        "app1.Size = app1.Size.str.replace('k','')\n"
      ],
      "execution_count": null,
      "outputs": []
    },
    {
      "cell_type": "code",
      "metadata": {
        "id": "EBcbjW-gX0R4",
        "outputId": "9312c896-1577-4929-d8f8-838d9426ee64",
        "colab": {
          "base_uri": "https://localhost:8080/",
          "height": 119
        }
      },
      "source": [
        "app1.Size.value_counts().head()\n",
        "# app.Size.head()"
      ],
      "execution_count": null,
      "outputs": [
        {
          "output_type": "execute_result",
          "data": {
            "text/plain": [
              "Varies with device    1169\n",
              "14                     150\n",
              "12                     146\n",
              "11                     145\n",
              "13                     143\n",
              "Name: Size, dtype: int64"
            ]
          },
          "metadata": {
            "tags": []
          },
          "execution_count": 51
        }
      ]
    },
    {
      "cell_type": "code",
      "metadata": {
        "id": "bROcujN6X9ZS"
      },
      "source": [
        "#this to_numeric() converts to float(default) and non-numeric values will be replaced with NAN \n",
        "app1.Size = pd.to_numeric(app1.Size,errors='coerce')"
      ],
      "execution_count": null,
      "outputs": []
    },
    {
      "cell_type": "code",
      "metadata": {
        "id": "OUy3vUPbj_yu",
        "outputId": "4c4fa505-2d7f-4097-9428-af424156ba8a",
        "colab": {
          "base_uri": "https://localhost:8080/",
          "height": 34
        }
      },
      "source": [
        "app1.shape"
      ],
      "execution_count": null,
      "outputs": [
        {
          "output_type": "execute_result",
          "data": {
            "text/plain": [
              "(8196, 14)"
            ]
          },
          "metadata": {
            "tags": []
          },
          "execution_count": 53
        }
      ]
    },
    {
      "cell_type": "code",
      "metadata": {
        "id": "1kAVySJJdGfU",
        "outputId": "d52e0fa0-07a0-4ee4-cb9f-c9383303159a",
        "colab": {
          "base_uri": "https://localhost:8080/",
          "height": 119
        }
      },
      "source": [
        "app1.Size.value_counts(dropna=False).head()"
      ],
      "execution_count": null,
      "outputs": [
        {
          "output_type": "execute_result",
          "data": {
            "text/plain": [
              "NaN     1169\n",
              "14.0     150\n",
              "12.0     146\n",
              "11.0     145\n",
              "13.0     143\n",
              "Name: Size, dtype: int64"
            ]
          },
          "metadata": {
            "tags": []
          },
          "execution_count": 54
        }
      ]
    },
    {
      "cell_type": "code",
      "metadata": {
        "id": "uwx7KujVdJP6",
        "outputId": "187761bf-7739-4dba-fd16-7bd6566ae803",
        "colab": {
          "base_uri": "https://localhost:8080/",
          "height": 272
        }
      },
      "source": [
        "app1.isna().sum()"
      ],
      "execution_count": null,
      "outputs": [
        {
          "output_type": "execute_result",
          "data": {
            "text/plain": [
              "App                  0\n",
              "Category             0\n",
              "Rating               0\n",
              "Reviews              0\n",
              "Size              1169\n",
              "Installs             0\n",
              "Type                 0\n",
              "Price                0\n",
              "Content Rating       0\n",
              "Genres               0\n",
              "Last Updated         0\n",
              "Current Ver          4\n",
              "Android Ver          2\n",
              "Rating_cat           0\n",
              "dtype: int64"
            ]
          },
          "metadata": {
            "tags": []
          },
          "execution_count": 55
        }
      ]
    },
    {
      "cell_type": "code",
      "metadata": {
        "id": "LWulubIhgfIL",
        "outputId": "83325b9c-15b4-40fd-b202-d420d478b8e9",
        "colab": {
          "base_uri": "https://localhost:8080/",
          "height": 119
        }
      },
      "source": [
        "app1.Size.head()"
      ],
      "execution_count": null,
      "outputs": [
        {
          "output_type": "execute_result",
          "data": {
            "text/plain": [
              "0    19.0\n",
              "1    14.0\n",
              "2     8.7\n",
              "3    25.0\n",
              "4     2.8\n",
              "Name: Size, dtype: float64"
            ]
          },
          "metadata": {
            "tags": []
          },
          "execution_count": 56
        }
      ]
    },
    {
      "cell_type": "code",
      "metadata": {
        "id": "zin8DysbkNip"
      },
      "source": [
        "# app.Size.loc[]\n",
        "# app.Size[(list(kb_index) + list(mb_index))]\n",
        "# app.Size"
      ],
      "execution_count": null,
      "outputs": []
    },
    {
      "cell_type": "code",
      "metadata": {
        "id": "edMxwWd7fp6n",
        "outputId": "031d0ef4-d988-4044-f0b0-45eb4e465cd7",
        "colab": {
          "base_uri": "https://localhost:8080/",
          "height": 119
        }
      },
      "source": [
        "app1.Size.loc[mb_index] = app1.Size.loc[mb_index] * 1000\n",
        "app1.Size.tail()"
      ],
      "execution_count": null,
      "outputs": [
        {
          "output_type": "execute_result",
          "data": {
            "text/plain": [
              "10834     2600.0\n",
              "10836    53000.0\n",
              "10837     3600.0\n",
              "10839        NaN\n",
              "10840    19000.0\n",
              "Name: Size, dtype: float64"
            ]
          },
          "metadata": {
            "tags": []
          },
          "execution_count": 58
        }
      ]
    },
    {
      "cell_type": "code",
      "metadata": {
        "id": "BmmrqG1Rk_fQ",
        "outputId": "6d3bdcfa-599f-4166-ff17-def3ce11e832",
        "colab": {
          "base_uri": "https://localhost:8080/",
          "height": 34
        }
      },
      "source": [
        "app1.Size.loc[mb_index].isna().sum()"
      ],
      "execution_count": null,
      "outputs": [
        {
          "output_type": "execute_result",
          "data": {
            "text/plain": [
              "0"
            ]
          },
          "metadata": {
            "tags": []
          },
          "execution_count": 59
        }
      ]
    },
    {
      "cell_type": "code",
      "metadata": {
        "id": "VxvCm7TllonG",
        "outputId": "46053072-12cc-4747-890e-9bf418efdc9b",
        "colab": {
          "base_uri": "https://localhost:8080/",
          "height": 34
        }
      },
      "source": [
        "# app1.Size.loc[kb_index]\n",
        "app.Size.loc[kb_index].isna().sum()"
      ],
      "execution_count": null,
      "outputs": [
        {
          "output_type": "execute_result",
          "data": {
            "text/plain": [
              "0"
            ]
          },
          "metadata": {
            "tags": []
          },
          "execution_count": 60
        }
      ]
    },
    {
      "cell_type": "code",
      "metadata": {
        "id": "eLXMdXCjkXC_",
        "outputId": "528f5bfb-cd9d-4f8d-c70c-1512ea1e0739",
        "colab": {
          "base_uri": "https://localhost:8080/",
          "height": 272
        }
      },
      "source": [
        "app1.isna().sum()"
      ],
      "execution_count": null,
      "outputs": [
        {
          "output_type": "execute_result",
          "data": {
            "text/plain": [
              "App                  0\n",
              "Category             0\n",
              "Rating               0\n",
              "Reviews              0\n",
              "Size              1169\n",
              "Installs             0\n",
              "Type                 0\n",
              "Price                0\n",
              "Content Rating       0\n",
              "Genres               0\n",
              "Last Updated         0\n",
              "Current Ver          4\n",
              "Android Ver          2\n",
              "Rating_cat           0\n",
              "dtype: int64"
            ]
          },
          "metadata": {
            "tags": []
          },
          "execution_count": 61
        }
      ]
    },
    {
      "cell_type": "code",
      "metadata": {
        "id": "GhfzUcL3dX0O"
      },
      "source": [
        "app1.dropna(subset=['Size'],inplace=True)"
      ],
      "execution_count": null,
      "outputs": []
    },
    {
      "cell_type": "code",
      "metadata": {
        "id": "f1gH_aGzeMRh",
        "outputId": "d01df418-9945-478d-8f34-690aaa657dc1",
        "colab": {
          "base_uri": "https://localhost:8080/",
          "height": 272
        }
      },
      "source": [
        "app1.isna().sum()"
      ],
      "execution_count": null,
      "outputs": [
        {
          "output_type": "execute_result",
          "data": {
            "text/plain": [
              "App               0\n",
              "Category          0\n",
              "Rating            0\n",
              "Reviews           0\n",
              "Size              0\n",
              "Installs          0\n",
              "Type              0\n",
              "Price             0\n",
              "Content Rating    0\n",
              "Genres            0\n",
              "Last Updated      0\n",
              "Current Ver       4\n",
              "Android Ver       2\n",
              "Rating_cat        0\n",
              "dtype: int64"
            ]
          },
          "metadata": {
            "tags": []
          },
          "execution_count": 63
        }
      ]
    },
    {
      "cell_type": "code",
      "metadata": {
        "id": "2phWO8v1eOPY",
        "outputId": "fbfc385a-9b2c-43bd-f13b-e338963d8f3a",
        "colab": {
          "base_uri": "https://localhost:8080/",
          "height": 34
        }
      },
      "source": [
        "app1.shape"
      ],
      "execution_count": null,
      "outputs": [
        {
          "output_type": "execute_result",
          "data": {
            "text/plain": [
              "(7027, 14)"
            ]
          },
          "metadata": {
            "tags": []
          },
          "execution_count": 64
        }
      ]
    },
    {
      "cell_type": "code",
      "metadata": {
        "id": "hhX52UxGeQzm",
        "outputId": "977f5f5f-e978-444a-e584-402e4b89460d",
        "colab": {
          "base_uri": "https://localhost:8080/",
          "height": 374
        }
      },
      "source": [
        "app1.info()"
      ],
      "execution_count": null,
      "outputs": [
        {
          "output_type": "stream",
          "text": [
            "<class 'pandas.core.frame.DataFrame'>\n",
            "Int64Index: 7027 entries, 0 to 10840\n",
            "Data columns (total 14 columns):\n",
            " #   Column          Non-Null Count  Dtype  \n",
            "---  ------          --------------  -----  \n",
            " 0   App             7027 non-null   object \n",
            " 1   Category        7027 non-null   object \n",
            " 2   Rating          7027 non-null   float64\n",
            " 3   Reviews         7027 non-null   int64  \n",
            " 4   Size            7027 non-null   float64\n",
            " 5   Installs        7027 non-null   object \n",
            " 6   Type            7027 non-null   object \n",
            " 7   Price           7027 non-null   object \n",
            " 8   Content Rating  7027 non-null   object \n",
            " 9   Genres          7027 non-null   object \n",
            " 10  Last Updated    7027 non-null   object \n",
            " 11  Current Ver     7023 non-null   object \n",
            " 12  Android Ver     7025 non-null   object \n",
            " 13  Rating_cat      7027 non-null   object \n",
            "dtypes: float64(2), int64(1), object(11)\n",
            "memory usage: 823.5+ KB\n"
          ],
          "name": "stdout"
        }
      ]
    },
    {
      "cell_type": "code",
      "metadata": {
        "id": "sgc4YgkBehCk",
        "outputId": "5613584b-2570-4df9-cdf7-e47c2949bf72",
        "colab": {
          "base_uri": "https://localhost:8080/",
          "height": 306
        }
      },
      "source": [
        "# Review distibution \n",
        "g = sns.kdeplot(app1.Size,shade=True,color='blue')\n",
        "g.set_xlabel(\"Reviews\")\n",
        "g.set_ylabel(\"Frequency\")\n",
        "plt.title('Distribution of Review',size = 20);"
      ],
      "execution_count": null,
      "outputs": [
        {
          "output_type": "display_data",
          "data": {
            "image/png": "[encoded data removed]",
            "text/plain": [
              "<Figure size 432x288 with 1 Axes>"
            ]
          },
          "metadata": {
            "tags": []
          }
        }
      ]
    },
    {
      "cell_type": "code",
      "metadata": {
        "id": "KAkE0PllwUhZ",
        "outputId": "2d3046ae-a19d-47ec-bc64-d2a142f0491a",
        "colab": {
          "base_uri": "https://localhost:8080/",
          "height": 357
        }
      },
      "source": [
        "app1.Installs.value_counts()"
      ],
      "execution_count": null,
      "outputs": [
        {
          "output_type": "execute_result",
          "data": {
            "text/plain": [
              "1,000,000+        1175\n",
              "100,000+           989\n",
              "10,000+            948\n",
              "1,000+             674\n",
              "10,000,000+        646\n",
              "500,000+           461\n",
              "5,000,000+         450\n",
              "50,000+            427\n",
              "5,000+             413\n",
              "100+               297\n",
              "500+               195\n",
              "50,000,000+        111\n",
              "100,000,000+        96\n",
              "10+                 67\n",
              "50+                 56\n",
              "5+                   9\n",
              "500,000,000+         8\n",
              "1+                   3\n",
              "1,000,000,000+       2\n",
              "Name: Installs, dtype: int64"
            ]
          },
          "metadata": {
            "tags": []
          },
          "execution_count": 67
        }
      ]
    },
    {
      "cell_type": "code",
      "metadata": {
        "id": "GF7jT--vw2Jy"
      },
      "source": [
        "app1.Installs = app1.Installs.str.replace(',','').str.replace('+','')#.value_counts()"
      ],
      "execution_count": null,
      "outputs": []
    },
    {
      "cell_type": "code",
      "metadata": {
        "id": "S_wUYAhsx6UN",
        "outputId": "de6e0f77-559b-45fa-ea5b-110934dd27d9",
        "colab": {
          "base_uri": "https://localhost:8080/",
          "height": 68
        }
      },
      "source": [
        "app1.Installs.unique()"
      ],
      "execution_count": null,
      "outputs": [
        {
          "output_type": "execute_result",
          "data": {
            "text/plain": [
              "array(['10000', '500000', '5000000', '50000000', '100000', '50000',\n",
              "       '1000000', '10000000', '5000', '100000000', '1000', '500000000',\n",
              "       '100', '500', '10', '1000000000', '5', '50', '1'], dtype=object)"
            ]
          },
          "metadata": {
            "tags": []
          },
          "execution_count": 69
        }
      ]
    },
    {
      "cell_type": "code",
      "metadata": {
        "id": "AEYzZJjyyN3k"
      },
      "source": [
        "# convert to numerical \n",
        "app1.Installs = pd.to_numeric(app1.Installs,errors='coerce')"
      ],
      "execution_count": null,
      "outputs": []
    },
    {
      "cell_type": "code",
      "metadata": {
        "id": "KajA173Kyuvm",
        "outputId": "2de9cee7-7bbb-459c-d9ea-b720eada137f",
        "colab": {
          "base_uri": "https://localhost:8080/",
          "height": 374
        }
      },
      "source": [
        "app1.info()"
      ],
      "execution_count": null,
      "outputs": [
        {
          "output_type": "stream",
          "text": [
            "<class 'pandas.core.frame.DataFrame'>\n",
            "Int64Index: 7027 entries, 0 to 10840\n",
            "Data columns (total 14 columns):\n",
            " #   Column          Non-Null Count  Dtype  \n",
            "---  ------          --------------  -----  \n",
            " 0   App             7027 non-null   object \n",
            " 1   Category        7027 non-null   object \n",
            " 2   Rating          7027 non-null   float64\n",
            " 3   Reviews         7027 non-null   int64  \n",
            " 4   Size            7027 non-null   float64\n",
            " 5   Installs        7027 non-null   int64  \n",
            " 6   Type            7027 non-null   object \n",
            " 7   Price           7027 non-null   object \n",
            " 8   Content Rating  7027 non-null   object \n",
            " 9   Genres          7027 non-null   object \n",
            " 10  Last Updated    7027 non-null   object \n",
            " 11  Current Ver     7023 non-null   object \n",
            " 12  Android Ver     7025 non-null   object \n",
            " 13  Rating_cat      7027 non-null   object \n",
            "dtypes: float64(2), int64(2), object(10)\n",
            "memory usage: 823.5+ KB\n"
          ],
          "name": "stdout"
        }
      ]
    },
    {
      "cell_type": "code",
      "metadata": {
        "id": "EIcWSV4dO_-W",
        "outputId": "6da42249-7d97-49ed-e0db-9bad5b78ed8e",
        "colab": {
          "base_uri": "https://localhost:8080/",
          "height": 340
        }
      },
      "source": [
        "sorted(app1.Installs.unique())"
      ],
      "execution_count": null,
      "outputs": [
        {
          "output_type": "execute_result",
          "data": {
            "text/plain": [
              "[1,\n",
              " 5,\n",
              " 10,\n",
              " 50,\n",
              " 100,\n",
              " 500,\n",
              " 1000,\n",
              " 5000,\n",
              " 10000,\n",
              " 50000,\n",
              " 100000,\n",
              " 500000,\n",
              " 1000000,\n",
              " 5000000,\n",
              " 10000000,\n",
              " 50000000,\n",
              " 100000000,\n",
              " 500000000,\n",
              " 1000000000]"
            ]
          },
          "metadata": {
            "tags": []
          },
          "execution_count": 72
        }
      ]
    },
    {
      "cell_type": "code",
      "metadata": {
        "id": "pmIRAUntyxnc"
      },
      "source": [
        "# pandas replace can replace list - list\n",
        "app1['Install_cat'] = app1.Installs.replace(sorted(app1.Installs.unique()),range(0,len(sorted(app1.Installs.unique())),1))"
      ],
      "execution_count": null,
      "outputs": []
    },
    {
      "cell_type": "code",
      "metadata": {
        "id": "RYGBYBPgA85O",
        "outputId": "ba7e32ab-448a-49e8-e89b-5adf181f0039",
        "colab": {
          "base_uri": "https://localhost:8080/",
          "height": 261
        }
      },
      "source": [
        "app1.head(3)"
      ],
      "execution_count": null,
      "outputs": [
        {
          "output_type": "execute_result",
          "data": {
            "text/html": [
              "<div>\n",
              "<style scoped>\n",
              "    .dataframe tbody tr th:only-of-type {\n",
              "        vertical-align: middle;\n",
              "    }\n",
              "\n",
              "    .dataframe tbody tr th {\n",
              "        vertical-align: top;\n",
              "    }\n",
              "\n",
              "    .dataframe thead th {\n",
              "        text-align: right;\n",
              "    }\n",
              "</style>\n",
              "<table border=\"1\" class=\"dataframe\">\n",
              "  <thead>\n",
              "    <tr style=\"text-align: right;\">\n",
              "      <th></th>\n",
              "      <th>App</th>\n",
              "      <th>Category</th>\n",
              "      <th>Rating</th>\n",
              "      <th>Reviews</th>\n",
              "      <th>Size</th>\n",
              "      <th>Installs</th>\n",
              "      <th>Type</th>\n",
              "      <th>Price</th>\n",
              "      <th>Content Rating</th>\n",
              "      <th>Genres</th>\n",
              "      <th>Last Updated</th>\n",
              "      <th>Current Ver</th>\n",
              "      <th>Android Ver</th>\n",
              "      <th>Rating_cat</th>\n",
              "      <th>Install_cat</th>\n",
              "    </tr>\n",
              "  </thead>\n",
              "  <tbody>\n",
              "    <tr>\n",
              "      <th>0</th>\n",
              "      <td>Photo Editor &amp; Candy Camera &amp; Grid &amp; ScrapBook</td>\n",
              "      <td>ART_AND_DESIGN</td>\n",
              "      <td>4.1</td>\n",
              "      <td>159</td>\n",
              "      <td>19000.0</td>\n",
              "      <td>10000</td>\n",
              "      <td>Free</td>\n",
              "      <td>0</td>\n",
              "      <td>Everyone</td>\n",
              "      <td>Art &amp; Design</td>\n",
              "      <td>January 7, 2018</td>\n",
              "      <td>1.0.0</td>\n",
              "      <td>4.0.3 and up</td>\n",
              "      <td>High</td>\n",
              "      <td>8</td>\n",
              "    </tr>\n",
              "    <tr>\n",
              "      <th>1</th>\n",
              "      <td>Coloring book moana</td>\n",
              "      <td>ART_AND_DESIGN</td>\n",
              "      <td>3.9</td>\n",
              "      <td>967</td>\n",
              "      <td>14000.0</td>\n",
              "      <td>500000</td>\n",
              "      <td>Free</td>\n",
              "      <td>0</td>\n",
              "      <td>Everyone</td>\n",
              "      <td>Art &amp; Design;Pretend Play</td>\n",
              "      <td>January 15, 2018</td>\n",
              "      <td>2.0.0</td>\n",
              "      <td>4.0.3 and up</td>\n",
              "      <td>High</td>\n",
              "      <td>11</td>\n",
              "    </tr>\n",
              "    <tr>\n",
              "      <th>2</th>\n",
              "      <td>U Launcher Lite – FREE Live Cool Themes, Hide ...</td>\n",
              "      <td>ART_AND_DESIGN</td>\n",
              "      <td>4.7</td>\n",
              "      <td>87510</td>\n",
              "      <td>8700.0</td>\n",
              "      <td>5000000</td>\n",
              "      <td>Free</td>\n",
              "      <td>0</td>\n",
              "      <td>Everyone</td>\n",
              "      <td>Art &amp; Design</td>\n",
              "      <td>August 1, 2018</td>\n",
              "      <td>1.2.4</td>\n",
              "      <td>4.0.3 and up</td>\n",
              "      <td>High</td>\n",
              "      <td>13</td>\n",
              "    </tr>\n",
              "  </tbody>\n",
              "</table>\n",
              "</div>"
            ],
            "text/plain": [
              "                                                 App  ... Install_cat\n",
              "0     Photo Editor & Candy Camera & Grid & ScrapBook  ...           8\n",
              "1                                Coloring book moana  ...          11\n",
              "2  U Launcher Lite – FREE Live Cool Themes, Hide ...  ...          13\n",
              "\n",
              "[3 rows x 15 columns]"
            ]
          },
          "metadata": {
            "tags": []
          },
          "execution_count": 74
        }
      ]
    },
    {
      "cell_type": "code",
      "metadata": {
        "id": "PItec1c2Brym",
        "outputId": "43ded657-ac75-41cf-80e5-761adc85b405",
        "colab": {
          "base_uri": "https://localhost:8080/",
          "height": 357
        }
      },
      "source": [
        "app1.Install_cat.value_counts()"
      ],
      "execution_count": null,
      "outputs": [
        {
          "output_type": "execute_result",
          "data": {
            "text/plain": [
              "12    1175\n",
              "10     989\n",
              "8      948\n",
              "6      674\n",
              "14     646\n",
              "11     461\n",
              "13     450\n",
              "9      427\n",
              "7      413\n",
              "4      297\n",
              "5      195\n",
              "15     111\n",
              "16      96\n",
              "2       67\n",
              "3       56\n",
              "1        9\n",
              "17       8\n",
              "0        3\n",
              "18       2\n",
              "Name: Install_cat, dtype: int64"
            ]
          },
          "metadata": {
            "tags": []
          },
          "execution_count": 75
        }
      ]
    },
    {
      "cell_type": "code",
      "metadata": {
        "id": "57yz2tfbB4Ma",
        "outputId": "909f95c7-508c-4880-fead-14dd12662ab8",
        "colab": {
          "base_uri": "https://localhost:8080/",
          "height": 102
        }
      },
      "source": [
        "app1.Type.describe()"
      ],
      "execution_count": null,
      "outputs": [
        {
          "output_type": "execute_result",
          "data": {
            "text/plain": [
              "count     7027\n",
              "unique       2\n",
              "top       Free\n",
              "freq      6486\n",
              "Name: Type, dtype: object"
            ]
          },
          "metadata": {
            "tags": []
          },
          "execution_count": 76
        }
      ]
    },
    {
      "cell_type": "code",
      "metadata": {
        "id": "9D53blBdCB-C",
        "outputId": "c6a16819-783c-4783-d30d-aa8e2a1732a5",
        "colab": {
          "base_uri": "https://localhost:8080/",
          "height": 68
        }
      },
      "source": [
        "app1.Type.value_counts(normalize=True)"
      ],
      "execution_count": null,
      "outputs": [
        {
          "output_type": "execute_result",
          "data": {
            "text/plain": [
              "Free    0.923011\n",
              "Paid    0.076989\n",
              "Name: Type, dtype: float64"
            ]
          },
          "metadata": {
            "tags": []
          },
          "execution_count": 77
        }
      ]
    },
    {
      "cell_type": "code",
      "metadata": {
        "id": "Zo69FnSQCItC",
        "outputId": "784d1d09-d3a2-4b5b-b260-d6a037e82f66",
        "colab": {
          "base_uri": "https://localhost:8080/",
          "height": 269
        }
      },
      "source": [
        "# plt.pie(app1.Type.value_counts(normalize=True));\n",
        "# Data to plot\n",
        "labels =app1['Type'].value_counts(sort = True).index\n",
        "sizes = app1['Type'].value_counts(sort = True)\n",
        "\n",
        "colors = [\"Blue\",\"Palegreen\"]\n",
        "explode = (0.1,0)  # explode 1st slice\n",
        "\n",
        "# Plot\n",
        "plt.pie(sizes, explode=explode, labels=labels, colors=colors, autopct='%1.1f%%', shadow=True, startangle=270)\n",
        "\n",
        "plt.title('Percent of Free and Paid App in store',size = 20)\n",
        "plt.show()"
      ],
      "execution_count": null,
      "outputs": [
        {
          "output_type": "display_data",
          "data": {
            "image/png": "[encoded data removed]",
            "text/plain": [
              "<Figure size 432x288 with 1 Axes>"
            ]
          },
          "metadata": {
            "tags": []
          }
        }
      ]
    },
    {
      "cell_type": "code",
      "metadata": {
        "id": "JaryJrFsCnri",
        "outputId": "832d8113-da7a-4a85-aa6e-0c5de6a0b41d",
        "colab": {
          "base_uri": "https://localhost:8080/",
          "height": 221
        }
      },
      "source": [
        "app1.Price.value_counts()"
      ],
      "execution_count": null,
      "outputs": [
        {
          "output_type": "execute_result",
          "data": {
            "text/plain": [
              "0         6486\n",
              "$0.99      103\n",
              "$2.99       97\n",
              "$4.99       61\n",
              "$1.99       53\n",
              "          ... \n",
              "$39.99       1\n",
              "$19.40       1\n",
              "$1.61        1\n",
              "$2.90        1\n",
              "$7.49        1\n",
              "Name: Price, Length: 68, dtype: int64"
            ]
          },
          "metadata": {
            "tags": []
          },
          "execution_count": 79
        }
      ]
    },
    {
      "cell_type": "code",
      "metadata": {
        "id": "fanawXAvDuPf"
      },
      "source": [
        "# app1.Price.describe()"
      ],
      "execution_count": null,
      "outputs": []
    },
    {
      "cell_type": "code",
      "metadata": {
        "id": "Q5jTmE2nDLHl"
      },
      "source": [
        "app1.Price = app1.Price.str.replace('$','')"
      ],
      "execution_count": null,
      "outputs": []
    },
    {
      "cell_type": "code",
      "metadata": {
        "id": "rVijW52jQCBj"
      },
      "source": [
        "app1.Price = pd.to_numeric(app1.Price,errors='coerce')"
      ],
      "execution_count": null,
      "outputs": []
    },
    {
      "cell_type": "code",
      "metadata": {
        "id": "GPEoC8V7DUFx",
        "outputId": "111ef04c-3fc8-4a56-a81c-e9dc4c806761",
        "colab": {
          "base_uri": "https://localhost:8080/",
          "height": 170
        }
      },
      "source": [
        "app1.Price.describe()"
      ],
      "execution_count": null,
      "outputs": [
        {
          "output_type": "execute_result",
          "data": {
            "text/plain": [
              "count    7027.000000\n",
              "mean        1.173572\n",
              "std        18.197602\n",
              "min         0.000000\n",
              "25%         0.000000\n",
              "50%         0.000000\n",
              "75%         0.000000\n",
              "max       400.000000\n",
              "Name: Price, dtype: float64"
            ]
          },
          "metadata": {
            "tags": []
          },
          "execution_count": 83
        }
      ]
    },
    {
      "cell_type": "markdown",
      "metadata": {
        "id": "hwfmJHEPQe5e"
      },
      "source": [
        "Seems most of the apps are free to use, and max price of an app is $400"
      ]
    },
    {
      "cell_type": "code",
      "metadata": {
        "id": "iG1Cksb_D6DQ",
        "outputId": "f04d3063-5121-4251-e1e0-528e4053c882",
        "colab": {
          "base_uri": "https://localhost:8080/",
          "height": 114
        }
      },
      "source": [
        "app1[app1.Price == 400]"
      ],
      "execution_count": null,
      "outputs": [
        {
          "output_type": "execute_result",
          "data": {
            "text/html": [
              "<div>\n",
              "<style scoped>\n",
              "    .dataframe tbody tr th:only-of-type {\n",
              "        vertical-align: middle;\n",
              "    }\n",
              "\n",
              "    .dataframe tbody tr th {\n",
              "        vertical-align: top;\n",
              "    }\n",
              "\n",
              "    .dataframe thead th {\n",
              "        text-align: right;\n",
              "    }\n",
              "</style>\n",
              "<table border=\"1\" class=\"dataframe\">\n",
              "  <thead>\n",
              "    <tr style=\"text-align: right;\">\n",
              "      <th></th>\n",
              "      <th>App</th>\n",
              "      <th>Category</th>\n",
              "      <th>Rating</th>\n",
              "      <th>Reviews</th>\n",
              "      <th>Size</th>\n",
              "      <th>Installs</th>\n",
              "      <th>Type</th>\n",
              "      <th>Price</th>\n",
              "      <th>Content Rating</th>\n",
              "      <th>Genres</th>\n",
              "      <th>Last Updated</th>\n",
              "      <th>Current Ver</th>\n",
              "      <th>Android Ver</th>\n",
              "      <th>Rating_cat</th>\n",
              "      <th>Install_cat</th>\n",
              "    </tr>\n",
              "  </thead>\n",
              "  <tbody>\n",
              "    <tr>\n",
              "      <th>4367</th>\n",
              "      <td>I'm Rich - Trump Edition</td>\n",
              "      <td>LIFESTYLE</td>\n",
              "      <td>3.6</td>\n",
              "      <td>275</td>\n",
              "      <td>7300.0</td>\n",
              "      <td>10000</td>\n",
              "      <td>Paid</td>\n",
              "      <td>400.0</td>\n",
              "      <td>Everyone</td>\n",
              "      <td>Lifestyle</td>\n",
              "      <td>May 3, 2018</td>\n",
              "      <td>1.0.1</td>\n",
              "      <td>4.1 and up</td>\n",
              "      <td>High</td>\n",
              "      <td>8</td>\n",
              "    </tr>\n",
              "  </tbody>\n",
              "</table>\n",
              "</div>"
            ],
            "text/plain": [
              "                           App   Category  ...  Rating_cat  Install_cat\n",
              "4367  I'm Rich - Trump Edition  LIFESTYLE  ...        High            8\n",
              "\n",
              "[1 rows x 15 columns]"
            ]
          },
          "metadata": {
            "tags": []
          },
          "execution_count": 84
        }
      ]
    },
    {
      "cell_type": "markdown",
      "metadata": {
        "id": "47RJh4k0Rjcq"
      },
      "source": [
        "'I'm Rich - Trump Edition' is the highest priced ($400) app in Play Store."
      ]
    },
    {
      "cell_type": "code",
      "metadata": {
        "id": "SgICEtmMRHD3",
        "outputId": "39b8bd89-c117-43a1-f13c-621b369e8f37",
        "colab": {
          "base_uri": "https://localhost:8080/",
          "height": 136
        }
      },
      "source": [
        "app1['Content Rating'].value_counts()"
      ],
      "execution_count": null,
      "outputs": [
        {
          "output_type": "execute_result",
          "data": {
            "text/plain": [
              "Everyone           5682\n",
              "Teen                779\n",
              "Mature 17+          304\n",
              "Everyone 10+        259\n",
              "Adults only 18+       2\n",
              "Unrated               1\n",
              "Name: Content Rating, dtype: int64"
            ]
          },
          "metadata": {
            "tags": []
          },
          "execution_count": 85
        }
      ]
    },
    {
      "cell_type": "code",
      "metadata": {
        "id": "_sOnRIdCXMQK"
      },
      "source": [
        "app1['Content Rating'] = app1['Content Rating'].str.split(n=1,expand=True)[0]"
      ],
      "execution_count": null,
      "outputs": []
    },
    {
      "cell_type": "code",
      "metadata": {
        "id": "OUHu_cgodUHZ",
        "outputId": "d4f0a2b2-563c-41e2-a6c5-588bb1a322b4",
        "colab": {
          "base_uri": "https://localhost:8080/",
          "height": 119
        }
      },
      "source": [
        "app1['Content Rating'].value_counts()"
      ],
      "execution_count": null,
      "outputs": [
        {
          "output_type": "execute_result",
          "data": {
            "text/plain": [
              "Everyone    5941\n",
              "Teen         779\n",
              "Mature       304\n",
              "Adults         2\n",
              "Unrated        1\n",
              "Name: Content Rating, dtype: int64"
            ]
          },
          "metadata": {
            "tags": []
          },
          "execution_count": 87
        }
      ]
    },
    {
      "cell_type": "code",
      "metadata": {
        "id": "1abb2LmrgwQX",
        "outputId": "c85c9ece-be1f-4f1a-a9c4-f836f553cca3",
        "colab": {
          "base_uri": "https://localhost:8080/",
          "height": 114
        }
      },
      "source": [
        "app1[app1['Content Rating'] == 'Unrated']"
      ],
      "execution_count": null,
      "outputs": [
        {
          "output_type": "execute_result",
          "data": {
            "text/html": [
              "<div>\n",
              "<style scoped>\n",
              "    .dataframe tbody tr th:only-of-type {\n",
              "        vertical-align: middle;\n",
              "    }\n",
              "\n",
              "    .dataframe tbody tr th {\n",
              "        vertical-align: top;\n",
              "    }\n",
              "\n",
              "    .dataframe thead th {\n",
              "        text-align: right;\n",
              "    }\n",
              "</style>\n",
              "<table border=\"1\" class=\"dataframe\">\n",
              "  <thead>\n",
              "    <tr style=\"text-align: right;\">\n",
              "      <th></th>\n",
              "      <th>App</th>\n",
              "      <th>Category</th>\n",
              "      <th>Rating</th>\n",
              "      <th>Reviews</th>\n",
              "      <th>Size</th>\n",
              "      <th>Installs</th>\n",
              "      <th>Type</th>\n",
              "      <th>Price</th>\n",
              "      <th>Content Rating</th>\n",
              "      <th>Genres</th>\n",
              "      <th>Last Updated</th>\n",
              "      <th>Current Ver</th>\n",
              "      <th>Android Ver</th>\n",
              "      <th>Rating_cat</th>\n",
              "      <th>Install_cat</th>\n",
              "    </tr>\n",
              "  </thead>\n",
              "  <tbody>\n",
              "    <tr>\n",
              "      <th>8266</th>\n",
              "      <td>DC Universe Online Map</td>\n",
              "      <td>TOOLS</td>\n",
              "      <td>4.1</td>\n",
              "      <td>1186</td>\n",
              "      <td>6400.0</td>\n",
              "      <td>50000</td>\n",
              "      <td>Free</td>\n",
              "      <td>0.0</td>\n",
              "      <td>Unrated</td>\n",
              "      <td>Tools</td>\n",
              "      <td>February 27, 2012</td>\n",
              "      <td>1.3</td>\n",
              "      <td>2.3.3 and up</td>\n",
              "      <td>High</td>\n",
              "      <td>9</td>\n",
              "    </tr>\n",
              "  </tbody>\n",
              "</table>\n",
              "</div>"
            ],
            "text/plain": [
              "                         App Category  ...  Rating_cat  Install_cat\n",
              "8266  DC Universe Online Map    TOOLS  ...        High            9\n",
              "\n",
              "[1 rows x 15 columns]"
            ]
          },
          "metadata": {
            "tags": []
          },
          "execution_count": 88
        }
      ]
    },
    {
      "cell_type": "code",
      "metadata": {
        "id": "e7YUFfwthHC7",
        "outputId": "8c7e6c72-3508-4255-ac5c-2d3032efe40e",
        "colab": {
          "base_uri": "https://localhost:8080/",
          "height": 162
        }
      },
      "source": [
        "app1[app1['Content Rating'] == 'Adults']"
      ],
      "execution_count": null,
      "outputs": [
        {
          "output_type": "execute_result",
          "data": {
            "text/html": [
              "<div>\n",
              "<style scoped>\n",
              "    .dataframe tbody tr th:only-of-type {\n",
              "        vertical-align: middle;\n",
              "    }\n",
              "\n",
              "    .dataframe tbody tr th {\n",
              "        vertical-align: top;\n",
              "    }\n",
              "\n",
              "    .dataframe thead th {\n",
              "        text-align: right;\n",
              "    }\n",
              "</style>\n",
              "<table border=\"1\" class=\"dataframe\">\n",
              "  <thead>\n",
              "    <tr style=\"text-align: right;\">\n",
              "      <th></th>\n",
              "      <th>App</th>\n",
              "      <th>Category</th>\n",
              "      <th>Rating</th>\n",
              "      <th>Reviews</th>\n",
              "      <th>Size</th>\n",
              "      <th>Installs</th>\n",
              "      <th>Type</th>\n",
              "      <th>Price</th>\n",
              "      <th>Content Rating</th>\n",
              "      <th>Genres</th>\n",
              "      <th>Last Updated</th>\n",
              "      <th>Current Ver</th>\n",
              "      <th>Android Ver</th>\n",
              "      <th>Rating_cat</th>\n",
              "      <th>Install_cat</th>\n",
              "    </tr>\n",
              "  </thead>\n",
              "  <tbody>\n",
              "    <tr>\n",
              "      <th>298</th>\n",
              "      <td>Manga Master - Best manga &amp; comic reader</td>\n",
              "      <td>COMICS</td>\n",
              "      <td>4.6</td>\n",
              "      <td>24005</td>\n",
              "      <td>4900.0</td>\n",
              "      <td>500000</td>\n",
              "      <td>Free</td>\n",
              "      <td>0.0</td>\n",
              "      <td>Adults</td>\n",
              "      <td>Comics</td>\n",
              "      <td>July 4, 2018</td>\n",
              "      <td>1.1.7.0</td>\n",
              "      <td>4.1 and up</td>\n",
              "      <td>High</td>\n",
              "      <td>11</td>\n",
              "    </tr>\n",
              "    <tr>\n",
              "      <th>3043</th>\n",
              "      <td>DraftKings - Daily Fantasy Sports</td>\n",
              "      <td>SPORTS</td>\n",
              "      <td>4.5</td>\n",
              "      <td>50017</td>\n",
              "      <td>41000.0</td>\n",
              "      <td>1000000</td>\n",
              "      <td>Free</td>\n",
              "      <td>0.0</td>\n",
              "      <td>Adults</td>\n",
              "      <td>Sports</td>\n",
              "      <td>July 24, 2018</td>\n",
              "      <td>3.21.324</td>\n",
              "      <td>4.4 and up</td>\n",
              "      <td>High</td>\n",
              "      <td>12</td>\n",
              "    </tr>\n",
              "  </tbody>\n",
              "</table>\n",
              "</div>"
            ],
            "text/plain": [
              "                                           App Category  ...  Rating_cat  Install_cat\n",
              "298   Manga Master - Best manga & comic reader   COMICS  ...        High           11\n",
              "3043         DraftKings - Daily Fantasy Sports   SPORTS  ...        High           12\n",
              "\n",
              "[2 rows x 15 columns]"
            ]
          },
          "metadata": {
            "tags": []
          },
          "execution_count": 89
        }
      ]
    },
    {
      "cell_type": "code",
      "metadata": {
        "id": "nBso-VR_hV9t",
        "outputId": "5f71493d-b285-48cd-adb8-89072e47efc9",
        "colab": {
          "base_uri": "https://localhost:8080/",
          "height": 391
        }
      },
      "source": [
        "app1.info()"
      ],
      "execution_count": null,
      "outputs": [
        {
          "output_type": "stream",
          "text": [
            "<class 'pandas.core.frame.DataFrame'>\n",
            "Int64Index: 7027 entries, 0 to 10840\n",
            "Data columns (total 15 columns):\n",
            " #   Column          Non-Null Count  Dtype  \n",
            "---  ------          --------------  -----  \n",
            " 0   App             7027 non-null   object \n",
            " 1   Category        7027 non-null   object \n",
            " 2   Rating          7027 non-null   float64\n",
            " 3   Reviews         7027 non-null   int64  \n",
            " 4   Size            7027 non-null   float64\n",
            " 5   Installs        7027 non-null   int64  \n",
            " 6   Type            7027 non-null   object \n",
            " 7   Price           7027 non-null   float64\n",
            " 8   Content Rating  7027 non-null   object \n",
            " 9   Genres          7027 non-null   object \n",
            " 10  Last Updated    7027 non-null   object \n",
            " 11  Current Ver     7023 non-null   object \n",
            " 12  Android Ver     7025 non-null   object \n",
            " 13  Rating_cat      7027 non-null   object \n",
            " 14  Install_cat     7027 non-null   int64  \n",
            "dtypes: float64(3), int64(3), object(9)\n",
            "memory usage: 878.4+ KB\n"
          ],
          "name": "stdout"
        }
      ]
    },
    {
      "cell_type": "code",
      "metadata": {
        "id": "vfoE5cTJhp3H"
      },
      "source": [
        "app1.drop(columns=['App','Genres','Last Updated','Current Ver','Android Ver'],inplace=True)"
      ],
      "execution_count": null,
      "outputs": []
    },
    {
      "cell_type": "code",
      "metadata": {
        "id": "_2RSU7-rraS_",
        "outputId": "81eb9c4f-9ba8-4fc8-9c03-e98e13795d14",
        "colab": {
          "base_uri": "https://localhost:8080/",
          "height": 204
        }
      },
      "source": [
        "app1.sample(5)"
      ],
      "execution_count": null,
      "outputs": [
        {
          "output_type": "execute_result",
          "data": {
            "text/html": [
              "<div>\n",
              "<style scoped>\n",
              "    .dataframe tbody tr th:only-of-type {\n",
              "        vertical-align: middle;\n",
              "    }\n",
              "\n",
              "    .dataframe tbody tr th {\n",
              "        vertical-align: top;\n",
              "    }\n",
              "\n",
              "    .dataframe thead th {\n",
              "        text-align: right;\n",
              "    }\n",
              "</style>\n",
              "<table border=\"1\" class=\"dataframe\">\n",
              "  <thead>\n",
              "    <tr style=\"text-align: right;\">\n",
              "      <th></th>\n",
              "      <th>Category</th>\n",
              "      <th>Rating</th>\n",
              "      <th>Reviews</th>\n",
              "      <th>Size</th>\n",
              "      <th>Installs</th>\n",
              "      <th>Type</th>\n",
              "      <th>Price</th>\n",
              "      <th>Content Rating</th>\n",
              "      <th>Rating_cat</th>\n",
              "      <th>Install_cat</th>\n",
              "    </tr>\n",
              "  </thead>\n",
              "  <tbody>\n",
              "    <tr>\n",
              "      <th>8031</th>\n",
              "      <td>FAMILY</td>\n",
              "      <td>3.2</td>\n",
              "      <td>3069</td>\n",
              "      <td>18000.0</td>\n",
              "      <td>500000</td>\n",
              "      <td>Free</td>\n",
              "      <td>0.00</td>\n",
              "      <td>Teen</td>\n",
              "      <td>Low</td>\n",
              "      <td>11</td>\n",
              "    </tr>\n",
              "    <tr>\n",
              "      <th>2021</th>\n",
              "      <td>FAMILY</td>\n",
              "      <td>4.5</td>\n",
              "      <td>5761</td>\n",
              "      <td>21000.0</td>\n",
              "      <td>1000000</td>\n",
              "      <td>Free</td>\n",
              "      <td>0.00</td>\n",
              "      <td>Everyone</td>\n",
              "      <td>High</td>\n",
              "      <td>12</td>\n",
              "    </tr>\n",
              "    <tr>\n",
              "      <th>1052</th>\n",
              "      <td>FINANCE</td>\n",
              "      <td>3.8</td>\n",
              "      <td>42644</td>\n",
              "      <td>19000.0</td>\n",
              "      <td>5000000</td>\n",
              "      <td>Free</td>\n",
              "      <td>0.00</td>\n",
              "      <td>Everyone</td>\n",
              "      <td>High</td>\n",
              "      <td>13</td>\n",
              "    </tr>\n",
              "    <tr>\n",
              "      <th>5081</th>\n",
              "      <td>PHOTOGRAPHY</td>\n",
              "      <td>4.3</td>\n",
              "      <td>2215</td>\n",
              "      <td>12000.0</td>\n",
              "      <td>500000</td>\n",
              "      <td>Free</td>\n",
              "      <td>0.00</td>\n",
              "      <td>Everyone</td>\n",
              "      <td>High</td>\n",
              "      <td>11</td>\n",
              "    </tr>\n",
              "    <tr>\n",
              "      <th>4487</th>\n",
              "      <td>PERSONALIZATION</td>\n",
              "      <td>4.8</td>\n",
              "      <td>18</td>\n",
              "      <td>16000.0</td>\n",
              "      <td>5000</td>\n",
              "      <td>Paid</td>\n",
              "      <td>1.49</td>\n",
              "      <td>Everyone</td>\n",
              "      <td>High</td>\n",
              "      <td>7</td>\n",
              "    </tr>\n",
              "  </tbody>\n",
              "</table>\n",
              "</div>"
            ],
            "text/plain": [
              "             Category  Rating  Reviews  ...  Content Rating  Rating_cat Install_cat\n",
              "8031           FAMILY     3.2     3069  ...            Teen         Low          11\n",
              "2021           FAMILY     4.5     5761  ...        Everyone        High          12\n",
              "1052          FINANCE     3.8    42644  ...        Everyone        High          13\n",
              "5081      PHOTOGRAPHY     4.3     2215  ...        Everyone        High          11\n",
              "4487  PERSONALIZATION     4.8       18  ...        Everyone        High           7\n",
              "\n",
              "[5 rows x 10 columns]"
            ]
          },
          "metadata": {
            "tags": []
          },
          "execution_count": 98
        }
      ]
    },
    {
      "cell_type": "code",
      "metadata": {
        "id": "gHx3je5OrcnZ"
      },
      "source": [
        " app_dummy = app1.copy()"
      ],
      "execution_count": null,
      "outputs": []
    },
    {
      "cell_type": "code",
      "metadata": {
        "id": "iFfSDrVKr_BX"
      },
      "source": [
        "# method : 1 \n",
        "app_dummy = pd.get_dummies(app_dummy,columns=['Category','Type','Content Rating','Rating_cat'],drop_first=True)"
      ],
      "execution_count": null,
      "outputs": []
    },
    {
      "cell_type": "code",
      "metadata": {
        "id": "Z0B8_8bjsioG",
        "outputId": "c7a316a7-4f67-44ef-eea0-010ec90cca54",
        "colab": {
          "base_uri": "https://localhost:8080/",
          "height": 148
        }
      },
      "source": [
        "app_dummy.head(2)"
      ],
      "execution_count": null,
      "outputs": [
        {
          "output_type": "execute_result",
          "data": {
            "text/html": [
              "<div>\n",
              "<style scoped>\n",
              "    .dataframe tbody tr th:only-of-type {\n",
              "        vertical-align: middle;\n",
              "    }\n",
              "\n",
              "    .dataframe tbody tr th {\n",
              "        vertical-align: top;\n",
              "    }\n",
              "\n",
              "    .dataframe thead th {\n",
              "        text-align: right;\n",
              "    }\n",
              "</style>\n",
              "<table border=\"1\" class=\"dataframe\">\n",
              "  <thead>\n",
              "    <tr style=\"text-align: right;\">\n",
              "      <th></th>\n",
              "      <th>Rating</th>\n",
              "      <th>Reviews</th>\n",
              "      <th>Size</th>\n",
              "      <th>Installs</th>\n",
              "      <th>Price</th>\n",
              "      <th>Install_cat</th>\n",
              "      <th>Category_AUTO_AND_VEHICLES</th>\n",
              "      <th>Category_BEAUTY</th>\n",
              "      <th>Category_BOOKS_AND_REFERENCE</th>\n",
              "      <th>Category_BUSINESS</th>\n",
              "      <th>Category_COMICS</th>\n",
              "      <th>Category_COMMUNICATION</th>\n",
              "      <th>Category_DATING</th>\n",
              "      <th>Category_EDUCATION</th>\n",
              "      <th>Category_ENTERTAINMENT</th>\n",
              "      <th>Category_EVENTS</th>\n",
              "      <th>Category_FAMILY</th>\n",
              "      <th>Category_FINANCE</th>\n",
              "      <th>Category_FOOD_AND_DRINK</th>\n",
              "      <th>Category_GAME</th>\n",
              "      <th>Category_HEALTH_AND_FITNESS</th>\n",
              "      <th>Category_HOUSE_AND_HOME</th>\n",
              "      <th>Category_LIBRARIES_AND_DEMO</th>\n",
              "      <th>Category_LIFESTYLE</th>\n",
              "      <th>Category_MAPS_AND_NAVIGATION</th>\n",
              "      <th>Category_MEDICAL</th>\n",
              "      <th>Category_NEWS_AND_MAGAZINES</th>\n",
              "      <th>Category_PARENTING</th>\n",
              "      <th>Category_PERSONALIZATION</th>\n",
              "      <th>Category_PHOTOGRAPHY</th>\n",
              "      <th>Category_PRODUCTIVITY</th>\n",
              "      <th>Category_SHOPPING</th>\n",
              "      <th>Category_SOCIAL</th>\n",
              "      <th>Category_SPORTS</th>\n",
              "      <th>Category_TOOLS</th>\n",
              "      <th>Category_TRAVEL_AND_LOCAL</th>\n",
              "      <th>Category_VIDEO_PLAYERS</th>\n",
              "      <th>Category_WEATHER</th>\n",
              "      <th>Type_Paid</th>\n",
              "      <th>Content Rating_Everyone</th>\n",
              "      <th>Content Rating_Mature</th>\n",
              "      <th>Content Rating_Teen</th>\n",
              "      <th>Content Rating_Unrated</th>\n",
              "      <th>Rating_cat_Low</th>\n",
              "    </tr>\n",
              "  </thead>\n",
              "  <tbody>\n",
              "    <tr>\n",
              "      <th>0</th>\n",
              "      <td>4.1</td>\n",
              "      <td>159</td>\n",
              "      <td>19000.0</td>\n",
              "      <td>10000</td>\n",
              "      <td>0.0</td>\n",
              "      <td>8</td>\n",
              "      <td>0</td>\n",
              "      <td>0</td>\n",
              "      <td>0</td>\n",
              "      <td>0</td>\n",
              "      <td>0</td>\n",
              "      <td>0</td>\n",
              "      <td>0</td>\n",
              "      <td>0</td>\n",
              "      <td>0</td>\n",
              "      <td>0</td>\n",
              "      <td>0</td>\n",
              "      <td>0</td>\n",
              "      <td>0</td>\n",
              "      <td>0</td>\n",
              "      <td>0</td>\n",
              "      <td>0</td>\n",
              "      <td>0</td>\n",
              "      <td>0</td>\n",
              "      <td>0</td>\n",
              "      <td>0</td>\n",
              "      <td>0</td>\n",
              "      <td>0</td>\n",
              "      <td>0</td>\n",
              "      <td>0</td>\n",
              "      <td>0</td>\n",
              "      <td>0</td>\n",
              "      <td>0</td>\n",
              "      <td>0</td>\n",
              "      <td>0</td>\n",
              "      <td>0</td>\n",
              "      <td>0</td>\n",
              "      <td>0</td>\n",
              "      <td>0</td>\n",
              "      <td>1</td>\n",
              "      <td>0</td>\n",
              "      <td>0</td>\n",
              "      <td>0</td>\n",
              "      <td>0</td>\n",
              "    </tr>\n",
              "    <tr>\n",
              "      <th>1</th>\n",
              "      <td>3.9</td>\n",
              "      <td>967</td>\n",
              "      <td>14000.0</td>\n",
              "      <td>500000</td>\n",
              "      <td>0.0</td>\n",
              "      <td>11</td>\n",
              "      <td>0</td>\n",
              "      <td>0</td>\n",
              "      <td>0</td>\n",
              "      <td>0</td>\n",
              "      <td>0</td>\n",
              "      <td>0</td>\n",
              "      <td>0</td>\n",
              "      <td>0</td>\n",
              "      <td>0</td>\n",
              "      <td>0</td>\n",
              "      <td>0</td>\n",
              "      <td>0</td>\n",
              "      <td>0</td>\n",
              "      <td>0</td>\n",
              "      <td>0</td>\n",
              "      <td>0</td>\n",
              "      <td>0</td>\n",
              "      <td>0</td>\n",
              "      <td>0</td>\n",
              "      <td>0</td>\n",
              "      <td>0</td>\n",
              "      <td>0</td>\n",
              "      <td>0</td>\n",
              "      <td>0</td>\n",
              "      <td>0</td>\n",
              "      <td>0</td>\n",
              "      <td>0</td>\n",
              "      <td>0</td>\n",
              "      <td>0</td>\n",
              "      <td>0</td>\n",
              "      <td>0</td>\n",
              "      <td>0</td>\n",
              "      <td>0</td>\n",
              "      <td>1</td>\n",
              "      <td>0</td>\n",
              "      <td>0</td>\n",
              "      <td>0</td>\n",
              "      <td>0</td>\n",
              "    </tr>\n",
              "  </tbody>\n",
              "</table>\n",
              "</div>"
            ],
            "text/plain": [
              "   Rating  Reviews  ...  Content Rating_Unrated  Rating_cat_Low\n",
              "0     4.1      159  ...                       0               0\n",
              "1     3.9      967  ...                       0               0\n",
              "\n",
              "[2 rows x 44 columns]"
            ]
          },
          "metadata": {
            "tags": []
          },
          "execution_count": 95
        }
      ]
    },
    {
      "cell_type": "code",
      "metadata": {
        "id": "DB91KLBzrj6d"
      },
      "source": [
        "catenc_dummy = app1.copy()"
      ],
      "execution_count": null,
      "outputs": []
    },
    {
      "cell_type": "code",
      "metadata": {
        "id": "xJOjQhnIr5J7",
        "outputId": "c66a546e-c1f3-490d-ce82-592db16f7dc7",
        "colab": {
          "base_uri": "https://localhost:8080/",
          "height": 292
        }
      },
      "source": [
        "!pip install category-encoders"
      ],
      "execution_count": null,
      "outputs": [
        {
          "output_type": "stream",
          "text": [
            "Collecting category-encoders\n",
            "\u001b[?25l  Downloading https://files.pythonhosted.org/packages/44/57/fcef41c248701ee62e8325026b90c432adea35555cbc870aff9cfba23727/category_encoders-2.2.2-py2.py3-none-any.whl (80kB)\n",
            "\r\u001b[K     |████                            | 10kB 10.5MB/s eta 0:00:01\r\u001b[K     |████████▏                       | 20kB 1.6MB/s eta 0:00:01\r\u001b[K     |████████████▏                   | 30kB 2.1MB/s eta 0:00:01\r\u001b[K     |████████████████▎               | 40kB 2.5MB/s eta 0:00:01\r\u001b[K     |████████████████████▎           | 51kB 2.0MB/s eta 0:00:01\r\u001b[K     |████████████████████████▍       | 61kB 2.2MB/s eta 0:00:01\r\u001b[K     |████████████████████████████▍   | 71kB 2.4MB/s eta 0:00:01\r\u001b[K     |████████████████████████████████| 81kB 1.8MB/s \n",
            "\u001b[?25hRequirement already satisfied: scipy>=1.0.0 in /usr/local/lib/python3.6/dist-packages (from category-encoders) (1.4.1)\n",
            "Requirement already satisfied: patsy>=0.5.1 in /usr/local/lib/python3.6/dist-packages (from category-encoders) (0.5.1)\n",
            "Requirement already satisfied: pandas>=0.21.1 in /usr/local/lib/python3.6/dist-packages (from category-encoders) (1.1.2)\n",
            "Requirement already satisfied: statsmodels>=0.9.0 in /usr/local/lib/python3.6/dist-packages (from category-encoders) (0.10.2)\n",
            "Requirement already satisfied: scikit-learn>=0.20.0 in /usr/local/lib/python3.6/dist-packages (from category-encoders) (0.22.2.post1)\n",
            "Requirement already satisfied: numpy>=1.14.0 in /usr/local/lib/python3.6/dist-packages (from category-encoders) (1.18.5)\n",
            "Requirement already satisfied: six in /usr/local/lib/python3.6/dist-packages (from patsy>=0.5.1->category-encoders) (1.15.0)\n",
            "Requirement already satisfied: python-dateutil>=2.7.3 in /usr/local/lib/python3.6/dist-packages (from pandas>=0.21.1->category-encoders) (2.8.1)\n",
            "Requirement already satisfied: pytz>=2017.2 in /usr/local/lib/python3.6/dist-packages (from pandas>=0.21.1->category-encoders) (2018.9)\n",
            "Requirement already satisfied: joblib>=0.11 in /usr/local/lib/python3.6/dist-packages (from scikit-learn>=0.20.0->category-encoders) (0.16.0)\n",
            "Installing collected packages: category-encoders\n",
            "Successfully installed category-encoders-2.2.2\n"
          ],
          "name": "stdout"
        }
      ]
    },
    {
      "cell_type": "code",
      "metadata": {
        "id": "qUk0kCBRs5pi"
      },
      "source": [
        "# method : 2 \n",
        "import category_encoders as ce\n",
        "\n",
        "tar = { 'Low' : 0 , 'High' : 1 }\n",
        "\n",
        "# catenc_dummy.replace({\"Rating_cat\": tar}) #method : 1 of mapping\n",
        "catenc_dummy['Rating_cat'] = catenc_dummy.Rating_cat.map(tar) #method : 2\n"
      ],
      "execution_count": null,
      "outputs": []
    },
    {
      "cell_type": "code",
      "metadata": {
        "id": "TA1LvJ8MtYZf",
        "outputId": "7db0b429-d53a-4a11-908a-7fb6c323d5b3",
        "colab": {
          "base_uri": "https://localhost:8080/",
          "height": 80
        }
      },
      "source": [
        "catenc_dummy[:1]"
      ],
      "execution_count": null,
      "outputs": [
        {
          "output_type": "execute_result",
          "data": {
            "text/html": [
              "<div>\n",
              "<style scoped>\n",
              "    .dataframe tbody tr th:only-of-type {\n",
              "        vertical-align: middle;\n",
              "    }\n",
              "\n",
              "    .dataframe tbody tr th {\n",
              "        vertical-align: top;\n",
              "    }\n",
              "\n",
              "    .dataframe thead th {\n",
              "        text-align: right;\n",
              "    }\n",
              "</style>\n",
              "<table border=\"1\" class=\"dataframe\">\n",
              "  <thead>\n",
              "    <tr style=\"text-align: right;\">\n",
              "      <th></th>\n",
              "      <th>Category</th>\n",
              "      <th>Rating</th>\n",
              "      <th>Reviews</th>\n",
              "      <th>Size</th>\n",
              "      <th>Installs</th>\n",
              "      <th>Type</th>\n",
              "      <th>Price</th>\n",
              "      <th>Content Rating</th>\n",
              "      <th>Rating_cat</th>\n",
              "      <th>Install_cat</th>\n",
              "    </tr>\n",
              "  </thead>\n",
              "  <tbody>\n",
              "    <tr>\n",
              "      <th>0</th>\n",
              "      <td>ART_AND_DESIGN</td>\n",
              "      <td>4.1</td>\n",
              "      <td>159</td>\n",
              "      <td>19000.0</td>\n",
              "      <td>10000</td>\n",
              "      <td>Free</td>\n",
              "      <td>0.0</td>\n",
              "      <td>Everyone</td>\n",
              "      <td>1</td>\n",
              "      <td>8</td>\n",
              "    </tr>\n",
              "  </tbody>\n",
              "</table>\n",
              "</div>"
            ],
            "text/plain": [
              "         Category  Rating  Reviews  ...  Content Rating  Rating_cat Install_cat\n",
              "0  ART_AND_DESIGN     4.1      159  ...        Everyone           1           8\n",
              "\n",
              "[1 rows x 10 columns]"
            ]
          },
          "metadata": {
            "tags": []
          },
          "execution_count": 113
        }
      ]
    },
    {
      "cell_type": "code",
      "metadata": {
        "id": "U0gUnanu0r0q",
        "outputId": "2076e89c-88db-43e3-a8cd-3c76dfcb4ea2",
        "colab": {
          "base_uri": "https://localhost:8080/",
          "height": 34
        }
      },
      "source": [
        "X_dummy = app_dummy.drop(columns=['Rating','Rating_cat_Low'],axis=1)\n",
        "y_dummy = app_dummy.loc[:,'Rating_cat_Low']\n",
        "X_dummy.shape, y_dummy.shape"
      ],
      "execution_count": null,
      "outputs": [
        {
          "output_type": "execute_result",
          "data": {
            "text/plain": [
              "((7027, 42), (7027,))"
            ]
          },
          "metadata": {
            "tags": []
          },
          "execution_count": 119
        }
      ]
    },
    {
      "cell_type": "code",
      "metadata": {
        "id": "OaoeuRpy0yQR",
        "outputId": "54c1c355-3146-422f-9012-c9d4972c8a71",
        "colab": {
          "base_uri": "https://localhost:8080/",
          "height": 148
        }
      },
      "source": [
        "X_dummy.head(2)"
      ],
      "execution_count": null,
      "outputs": [
        {
          "output_type": "execute_result",
          "data": {
            "text/html": [
              "<div>\n",
              "<style scoped>\n",
              "    .dataframe tbody tr th:only-of-type {\n",
              "        vertical-align: middle;\n",
              "    }\n",
              "\n",
              "    .dataframe tbody tr th {\n",
              "        vertical-align: top;\n",
              "    }\n",
              "\n",
              "    .dataframe thead th {\n",
              "        text-align: right;\n",
              "    }\n",
              "</style>\n",
              "<table border=\"1\" class=\"dataframe\">\n",
              "  <thead>\n",
              "    <tr style=\"text-align: right;\">\n",
              "      <th></th>\n",
              "      <th>Reviews</th>\n",
              "      <th>Size</th>\n",
              "      <th>Installs</th>\n",
              "      <th>Price</th>\n",
              "      <th>Install_cat</th>\n",
              "      <th>Category_AUTO_AND_VEHICLES</th>\n",
              "      <th>Category_BEAUTY</th>\n",
              "      <th>Category_BOOKS_AND_REFERENCE</th>\n",
              "      <th>Category_BUSINESS</th>\n",
              "      <th>Category_COMICS</th>\n",
              "      <th>Category_COMMUNICATION</th>\n",
              "      <th>Category_DATING</th>\n",
              "      <th>Category_EDUCATION</th>\n",
              "      <th>Category_ENTERTAINMENT</th>\n",
              "      <th>Category_EVENTS</th>\n",
              "      <th>Category_FAMILY</th>\n",
              "      <th>Category_FINANCE</th>\n",
              "      <th>Category_FOOD_AND_DRINK</th>\n",
              "      <th>Category_GAME</th>\n",
              "      <th>Category_HEALTH_AND_FITNESS</th>\n",
              "      <th>Category_HOUSE_AND_HOME</th>\n",
              "      <th>Category_LIBRARIES_AND_DEMO</th>\n",
              "      <th>Category_LIFESTYLE</th>\n",
              "      <th>Category_MAPS_AND_NAVIGATION</th>\n",
              "      <th>Category_MEDICAL</th>\n",
              "      <th>Category_NEWS_AND_MAGAZINES</th>\n",
              "      <th>Category_PARENTING</th>\n",
              "      <th>Category_PERSONALIZATION</th>\n",
              "      <th>Category_PHOTOGRAPHY</th>\n",
              "      <th>Category_PRODUCTIVITY</th>\n",
              "      <th>Category_SHOPPING</th>\n",
              "      <th>Category_SOCIAL</th>\n",
              "      <th>Category_SPORTS</th>\n",
              "      <th>Category_TOOLS</th>\n",
              "      <th>Category_TRAVEL_AND_LOCAL</th>\n",
              "      <th>Category_VIDEO_PLAYERS</th>\n",
              "      <th>Category_WEATHER</th>\n",
              "      <th>Type_Paid</th>\n",
              "      <th>Content Rating_Everyone</th>\n",
              "      <th>Content Rating_Mature</th>\n",
              "      <th>Content Rating_Teen</th>\n",
              "      <th>Content Rating_Unrated</th>\n",
              "    </tr>\n",
              "  </thead>\n",
              "  <tbody>\n",
              "    <tr>\n",
              "      <th>0</th>\n",
              "      <td>159</td>\n",
              "      <td>19000.0</td>\n",
              "      <td>10000</td>\n",
              "      <td>0.0</td>\n",
              "      <td>8</td>\n",
              "      <td>0</td>\n",
              "      <td>0</td>\n",
              "      <td>0</td>\n",
              "      <td>0</td>\n",
              "      <td>0</td>\n",
              "      <td>0</td>\n",
              "      <td>0</td>\n",
              "      <td>0</td>\n",
              "      <td>0</td>\n",
              "      <td>0</td>\n",
              "      <td>0</td>\n",
              "      <td>0</td>\n",
              "      <td>0</td>\n",
              "      <td>0</td>\n",
              "      <td>0</td>\n",
              "      <td>0</td>\n",
              "      <td>0</td>\n",
              "      <td>0</td>\n",
              "      <td>0</td>\n",
              "      <td>0</td>\n",
              "      <td>0</td>\n",
              "      <td>0</td>\n",
              "      <td>0</td>\n",
              "      <td>0</td>\n",
              "      <td>0</td>\n",
              "      <td>0</td>\n",
              "      <td>0</td>\n",
              "      <td>0</td>\n",
              "      <td>0</td>\n",
              "      <td>0</td>\n",
              "      <td>0</td>\n",
              "      <td>0</td>\n",
              "      <td>0</td>\n",
              "      <td>1</td>\n",
              "      <td>0</td>\n",
              "      <td>0</td>\n",
              "      <td>0</td>\n",
              "    </tr>\n",
              "    <tr>\n",
              "      <th>1</th>\n",
              "      <td>967</td>\n",
              "      <td>14000.0</td>\n",
              "      <td>500000</td>\n",
              "      <td>0.0</td>\n",
              "      <td>11</td>\n",
              "      <td>0</td>\n",
              "      <td>0</td>\n",
              "      <td>0</td>\n",
              "      <td>0</td>\n",
              "      <td>0</td>\n",
              "      <td>0</td>\n",
              "      <td>0</td>\n",
              "      <td>0</td>\n",
              "      <td>0</td>\n",
              "      <td>0</td>\n",
              "      <td>0</td>\n",
              "      <td>0</td>\n",
              "      <td>0</td>\n",
              "      <td>0</td>\n",
              "      <td>0</td>\n",
              "      <td>0</td>\n",
              "      <td>0</td>\n",
              "      <td>0</td>\n",
              "      <td>0</td>\n",
              "      <td>0</td>\n",
              "      <td>0</td>\n",
              "      <td>0</td>\n",
              "      <td>0</td>\n",
              "      <td>0</td>\n",
              "      <td>0</td>\n",
              "      <td>0</td>\n",
              "      <td>0</td>\n",
              "      <td>0</td>\n",
              "      <td>0</td>\n",
              "      <td>0</td>\n",
              "      <td>0</td>\n",
              "      <td>0</td>\n",
              "      <td>0</td>\n",
              "      <td>1</td>\n",
              "      <td>0</td>\n",
              "      <td>0</td>\n",
              "      <td>0</td>\n",
              "    </tr>\n",
              "  </tbody>\n",
              "</table>\n",
              "</div>"
            ],
            "text/plain": [
              "   Reviews     Size  ...  Content Rating_Teen  Content Rating_Unrated\n",
              "0      159  19000.0  ...                    0                       0\n",
              "1      967  14000.0  ...                    0                       0\n",
              "\n",
              "[2 rows x 42 columns]"
            ]
          },
          "metadata": {
            "tags": []
          },
          "execution_count": 120
        }
      ]
    },
    {
      "cell_type": "code",
      "metadata": {
        "id": "Mg6lQoBC06aW",
        "outputId": "f9562e43-4f01-4ada-f2ab-732c8c3e028b",
        "colab": {
          "base_uri": "https://localhost:8080/",
          "height": 68
        }
      },
      "source": [
        "y_dummy.head(2)"
      ],
      "execution_count": null,
      "outputs": [
        {
          "output_type": "execute_result",
          "data": {
            "text/plain": [
              "0    0\n",
              "1    0\n",
              "Name: Rating_cat_Low, dtype: uint8"
            ]
          },
          "metadata": {
            "tags": []
          },
          "execution_count": 121
        }
      ]
    },
    {
      "cell_type": "code",
      "metadata": {
        "id": "mBg4gOi45Gpp"
      },
      "source": [
        "from sklearn.model_selection import train_test_split\n",
        "\n",
        "x_train,x_test,y_train,y_test = train_test_split(X_dummy,y_dummy,test_size=0.3,random_state = 14,stratify=y_dummy)"
      ],
      "execution_count": null,
      "outputs": []
    },
    {
      "cell_type": "code",
      "metadata": {
        "id": "78PbfhIV686v",
        "outputId": "183674a4-3b27-4a28-f42d-8e6aa5cffbd1",
        "colab": {
          "base_uri": "https://localhost:8080/",
          "height": 241
        }
      },
      "source": [
        "x_train.head()"
      ],
      "execution_count": null,
      "outputs": [
        {
          "output_type": "execute_result",
          "data": {
            "text/html": [
              "<div>\n",
              "<style scoped>\n",
              "    .dataframe tbody tr th:only-of-type {\n",
              "        vertical-align: middle;\n",
              "    }\n",
              "\n",
              "    .dataframe tbody tr th {\n",
              "        vertical-align: top;\n",
              "    }\n",
              "\n",
              "    .dataframe thead th {\n",
              "        text-align: right;\n",
              "    }\n",
              "</style>\n",
              "<table border=\"1\" class=\"dataframe\">\n",
              "  <thead>\n",
              "    <tr style=\"text-align: right;\">\n",
              "      <th></th>\n",
              "      <th>Reviews</th>\n",
              "      <th>Size</th>\n",
              "      <th>Installs</th>\n",
              "      <th>Price</th>\n",
              "      <th>Install_cat</th>\n",
              "      <th>Category_AUTO_AND_VEHICLES</th>\n",
              "      <th>Category_BEAUTY</th>\n",
              "      <th>Category_BOOKS_AND_REFERENCE</th>\n",
              "      <th>Category_BUSINESS</th>\n",
              "      <th>Category_COMICS</th>\n",
              "      <th>Category_COMMUNICATION</th>\n",
              "      <th>Category_DATING</th>\n",
              "      <th>Category_EDUCATION</th>\n",
              "      <th>Category_ENTERTAINMENT</th>\n",
              "      <th>Category_EVENTS</th>\n",
              "      <th>Category_FAMILY</th>\n",
              "      <th>Category_FINANCE</th>\n",
              "      <th>Category_FOOD_AND_DRINK</th>\n",
              "      <th>Category_GAME</th>\n",
              "      <th>Category_HEALTH_AND_FITNESS</th>\n",
              "      <th>Category_HOUSE_AND_HOME</th>\n",
              "      <th>Category_LIBRARIES_AND_DEMO</th>\n",
              "      <th>Category_LIFESTYLE</th>\n",
              "      <th>Category_MAPS_AND_NAVIGATION</th>\n",
              "      <th>Category_MEDICAL</th>\n",
              "      <th>Category_NEWS_AND_MAGAZINES</th>\n",
              "      <th>Category_PARENTING</th>\n",
              "      <th>Category_PERSONALIZATION</th>\n",
              "      <th>Category_PHOTOGRAPHY</th>\n",
              "      <th>Category_PRODUCTIVITY</th>\n",
              "      <th>Category_SHOPPING</th>\n",
              "      <th>Category_SOCIAL</th>\n",
              "      <th>Category_SPORTS</th>\n",
              "      <th>Category_TOOLS</th>\n",
              "      <th>Category_TRAVEL_AND_LOCAL</th>\n",
              "      <th>Category_VIDEO_PLAYERS</th>\n",
              "      <th>Category_WEATHER</th>\n",
              "      <th>Type_Paid</th>\n",
              "      <th>Content Rating_Everyone</th>\n",
              "      <th>Content Rating_Mature</th>\n",
              "      <th>Content Rating_Teen</th>\n",
              "      <th>Content Rating_Unrated</th>\n",
              "    </tr>\n",
              "  </thead>\n",
              "  <tbody>\n",
              "    <tr>\n",
              "      <th>7738</th>\n",
              "      <td>10</td>\n",
              "      <td>3800.0</td>\n",
              "      <td>100</td>\n",
              "      <td>1.49</td>\n",
              "      <td>4</td>\n",
              "      <td>0</td>\n",
              "      <td>0</td>\n",
              "      <td>0</td>\n",
              "      <td>0</td>\n",
              "      <td>0</td>\n",
              "      <td>1</td>\n",
              "      <td>0</td>\n",
              "      <td>0</td>\n",
              "      <td>0</td>\n",
              "      <td>0</td>\n",
              "      <td>0</td>\n",
              "      <td>0</td>\n",
              "      <td>0</td>\n",
              "      <td>0</td>\n",
              "      <td>0</td>\n",
              "      <td>0</td>\n",
              "      <td>0</td>\n",
              "      <td>0</td>\n",
              "      <td>0</td>\n",
              "      <td>0</td>\n",
              "      <td>0</td>\n",
              "      <td>0</td>\n",
              "      <td>0</td>\n",
              "      <td>0</td>\n",
              "      <td>0</td>\n",
              "      <td>0</td>\n",
              "      <td>0</td>\n",
              "      <td>0</td>\n",
              "      <td>0</td>\n",
              "      <td>0</td>\n",
              "      <td>0</td>\n",
              "      <td>0</td>\n",
              "      <td>1</td>\n",
              "      <td>1</td>\n",
              "      <td>0</td>\n",
              "      <td>0</td>\n",
              "      <td>0</td>\n",
              "    </tr>\n",
              "    <tr>\n",
              "      <th>5917</th>\n",
              "      <td>2</td>\n",
              "      <td>20000.0</td>\n",
              "      <td>1</td>\n",
              "      <td>1.49</td>\n",
              "      <td>0</td>\n",
              "      <td>0</td>\n",
              "      <td>0</td>\n",
              "      <td>0</td>\n",
              "      <td>0</td>\n",
              "      <td>0</td>\n",
              "      <td>0</td>\n",
              "      <td>0</td>\n",
              "      <td>0</td>\n",
              "      <td>0</td>\n",
              "      <td>0</td>\n",
              "      <td>0</td>\n",
              "      <td>0</td>\n",
              "      <td>0</td>\n",
              "      <td>1</td>\n",
              "      <td>0</td>\n",
              "      <td>0</td>\n",
              "      <td>0</td>\n",
              "      <td>0</td>\n",
              "      <td>0</td>\n",
              "      <td>0</td>\n",
              "      <td>0</td>\n",
              "      <td>0</td>\n",
              "      <td>0</td>\n",
              "      <td>0</td>\n",
              "      <td>0</td>\n",
              "      <td>0</td>\n",
              "      <td>0</td>\n",
              "      <td>0</td>\n",
              "      <td>0</td>\n",
              "      <td>0</td>\n",
              "      <td>0</td>\n",
              "      <td>0</td>\n",
              "      <td>1</td>\n",
              "      <td>1</td>\n",
              "      <td>0</td>\n",
              "      <td>0</td>\n",
              "      <td>0</td>\n",
              "    </tr>\n",
              "    <tr>\n",
              "      <th>7692</th>\n",
              "      <td>13</td>\n",
              "      <td>4700.0</td>\n",
              "      <td>500</td>\n",
              "      <td>0.00</td>\n",
              "      <td>5</td>\n",
              "      <td>0</td>\n",
              "      <td>0</td>\n",
              "      <td>0</td>\n",
              "      <td>0</td>\n",
              "      <td>0</td>\n",
              "      <td>0</td>\n",
              "      <td>0</td>\n",
              "      <td>0</td>\n",
              "      <td>0</td>\n",
              "      <td>0</td>\n",
              "      <td>1</td>\n",
              "      <td>0</td>\n",
              "      <td>0</td>\n",
              "      <td>0</td>\n",
              "      <td>0</td>\n",
              "      <td>0</td>\n",
              "      <td>0</td>\n",
              "      <td>0</td>\n",
              "      <td>0</td>\n",
              "      <td>0</td>\n",
              "      <td>0</td>\n",
              "      <td>0</td>\n",
              "      <td>0</td>\n",
              "      <td>0</td>\n",
              "      <td>0</td>\n",
              "      <td>0</td>\n",
              "      <td>0</td>\n",
              "      <td>0</td>\n",
              "      <td>0</td>\n",
              "      <td>0</td>\n",
              "      <td>0</td>\n",
              "      <td>0</td>\n",
              "      <td>0</td>\n",
              "      <td>1</td>\n",
              "      <td>0</td>\n",
              "      <td>0</td>\n",
              "      <td>0</td>\n",
              "    </tr>\n",
              "    <tr>\n",
              "      <th>6045</th>\n",
              "      <td>15</td>\n",
              "      <td>4500.0</td>\n",
              "      <td>100</td>\n",
              "      <td>0.00</td>\n",
              "      <td>4</td>\n",
              "      <td>0</td>\n",
              "      <td>0</td>\n",
              "      <td>0</td>\n",
              "      <td>0</td>\n",
              "      <td>0</td>\n",
              "      <td>0</td>\n",
              "      <td>0</td>\n",
              "      <td>0</td>\n",
              "      <td>0</td>\n",
              "      <td>0</td>\n",
              "      <td>0</td>\n",
              "      <td>0</td>\n",
              "      <td>0</td>\n",
              "      <td>0</td>\n",
              "      <td>0</td>\n",
              "      <td>0</td>\n",
              "      <td>0</td>\n",
              "      <td>1</td>\n",
              "      <td>0</td>\n",
              "      <td>0</td>\n",
              "      <td>0</td>\n",
              "      <td>0</td>\n",
              "      <td>0</td>\n",
              "      <td>0</td>\n",
              "      <td>0</td>\n",
              "      <td>0</td>\n",
              "      <td>0</td>\n",
              "      <td>0</td>\n",
              "      <td>0</td>\n",
              "      <td>0</td>\n",
              "      <td>0</td>\n",
              "      <td>0</td>\n",
              "      <td>0</td>\n",
              "      <td>1</td>\n",
              "      <td>0</td>\n",
              "      <td>0</td>\n",
              "      <td>0</td>\n",
              "    </tr>\n",
              "    <tr>\n",
              "      <th>8975</th>\n",
              "      <td>427</td>\n",
              "      <td>9500.0</td>\n",
              "      <td>100000</td>\n",
              "      <td>0.00</td>\n",
              "      <td>10</td>\n",
              "      <td>0</td>\n",
              "      <td>0</td>\n",
              "      <td>0</td>\n",
              "      <td>0</td>\n",
              "      <td>0</td>\n",
              "      <td>0</td>\n",
              "      <td>0</td>\n",
              "      <td>0</td>\n",
              "      <td>0</td>\n",
              "      <td>0</td>\n",
              "      <td>0</td>\n",
              "      <td>0</td>\n",
              "      <td>0</td>\n",
              "      <td>0</td>\n",
              "      <td>0</td>\n",
              "      <td>0</td>\n",
              "      <td>0</td>\n",
              "      <td>0</td>\n",
              "      <td>0</td>\n",
              "      <td>0</td>\n",
              "      <td>0</td>\n",
              "      <td>0</td>\n",
              "      <td>0</td>\n",
              "      <td>0</td>\n",
              "      <td>0</td>\n",
              "      <td>0</td>\n",
              "      <td>0</td>\n",
              "      <td>0</td>\n",
              "      <td>1</td>\n",
              "      <td>0</td>\n",
              "      <td>0</td>\n",
              "      <td>0</td>\n",
              "      <td>0</td>\n",
              "      <td>1</td>\n",
              "      <td>0</td>\n",
              "      <td>0</td>\n",
              "      <td>0</td>\n",
              "    </tr>\n",
              "  </tbody>\n",
              "</table>\n",
              "</div>"
            ],
            "text/plain": [
              "      Reviews     Size  ...  Content Rating_Teen  Content Rating_Unrated\n",
              "7738       10   3800.0  ...                    0                       0\n",
              "5917        2  20000.0  ...                    0                       0\n",
              "7692       13   4700.0  ...                    0                       0\n",
              "6045       15   4500.0  ...                    0                       0\n",
              "8975      427   9500.0  ...                    0                       0\n",
              "\n",
              "[5 rows x 42 columns]"
            ]
          },
          "metadata": {
            "tags": []
          },
          "execution_count": 151
        }
      ]
    },
    {
      "cell_type": "code",
      "metadata": {
        "id": "TVXZtWQSrv8r"
      },
      "source": [
        "cbe = ce.CatBoostEncoder(cols=['Category','Type','Content Rating'])\n",
        "catenc_dummy.loc[:,['Category','Type','Content Rating']] = cbe.fit_transform(catenc_dummy.loc[:,['Category','Type','Content Rating']],catenc_dummy['Rating_cat'])"
      ],
      "execution_count": null,
      "outputs": []
    },
    {
      "cell_type": "code",
      "metadata": {
        "id": "WQI5jjPntQxb",
        "outputId": "73803cbe-c314-42c1-e27a-02a001c032f6",
        "colab": {
          "base_uri": "https://localhost:8080/",
          "height": 204
        }
      },
      "source": [
        "catenc_dummy.head()"
      ],
      "execution_count": null,
      "outputs": [
        {
          "output_type": "execute_result",
          "data": {
            "text/html": [
              "<div>\n",
              "<style scoped>\n",
              "    .dataframe tbody tr th:only-of-type {\n",
              "        vertical-align: middle;\n",
              "    }\n",
              "\n",
              "    .dataframe tbody tr th {\n",
              "        vertical-align: top;\n",
              "    }\n",
              "\n",
              "    .dataframe thead th {\n",
              "        text-align: right;\n",
              "    }\n",
              "</style>\n",
              "<table border=\"1\" class=\"dataframe\">\n",
              "  <thead>\n",
              "    <tr style=\"text-align: right;\">\n",
              "      <th></th>\n",
              "      <th>Category</th>\n",
              "      <th>Rating</th>\n",
              "      <th>Reviews</th>\n",
              "      <th>Size</th>\n",
              "      <th>Installs</th>\n",
              "      <th>Type</th>\n",
              "      <th>Price</th>\n",
              "      <th>Content Rating</th>\n",
              "      <th>Rating_cat</th>\n",
              "      <th>Install_cat</th>\n",
              "    </tr>\n",
              "  </thead>\n",
              "  <tbody>\n",
              "    <tr>\n",
              "      <th>0</th>\n",
              "      <td>0.904369</td>\n",
              "      <td>4.1</td>\n",
              "      <td>159</td>\n",
              "      <td>19000.0</td>\n",
              "      <td>10000</td>\n",
              "      <td>0.904369</td>\n",
              "      <td>0.0</td>\n",
              "      <td>0.904369</td>\n",
              "      <td>1</td>\n",
              "      <td>8</td>\n",
              "    </tr>\n",
              "    <tr>\n",
              "      <th>1</th>\n",
              "      <td>0.952184</td>\n",
              "      <td>3.9</td>\n",
              "      <td>967</td>\n",
              "      <td>14000.0</td>\n",
              "      <td>500000</td>\n",
              "      <td>0.952184</td>\n",
              "      <td>0.0</td>\n",
              "      <td>0.952184</td>\n",
              "      <td>1</td>\n",
              "      <td>11</td>\n",
              "    </tr>\n",
              "    <tr>\n",
              "      <th>2</th>\n",
              "      <td>0.968123</td>\n",
              "      <td>4.7</td>\n",
              "      <td>87510</td>\n",
              "      <td>8700.0</td>\n",
              "      <td>5000000</td>\n",
              "      <td>0.968123</td>\n",
              "      <td>0.0</td>\n",
              "      <td>0.968123</td>\n",
              "      <td>1</td>\n",
              "      <td>13</td>\n",
              "    </tr>\n",
              "    <tr>\n",
              "      <th>3</th>\n",
              "      <td>0.976092</td>\n",
              "      <td>4.5</td>\n",
              "      <td>215644</td>\n",
              "      <td>25000.0</td>\n",
              "      <td>50000000</td>\n",
              "      <td>0.976092</td>\n",
              "      <td>0.0</td>\n",
              "      <td>0.904369</td>\n",
              "      <td>1</td>\n",
              "      <td>15</td>\n",
              "    </tr>\n",
              "    <tr>\n",
              "      <th>4</th>\n",
              "      <td>0.980874</td>\n",
              "      <td>4.3</td>\n",
              "      <td>967</td>\n",
              "      <td>2800.0</td>\n",
              "      <td>100000</td>\n",
              "      <td>0.980874</td>\n",
              "      <td>0.0</td>\n",
              "      <td>0.976092</td>\n",
              "      <td>1</td>\n",
              "      <td>10</td>\n",
              "    </tr>\n",
              "  </tbody>\n",
              "</table>\n",
              "</div>"
            ],
            "text/plain": [
              "   Category  Rating  Reviews  ...  Content Rating  Rating_cat  Install_cat\n",
              "0  0.904369     4.1      159  ...        0.904369           1            8\n",
              "1  0.952184     3.9      967  ...        0.952184           1           11\n",
              "2  0.968123     4.7    87510  ...        0.968123           1           13\n",
              "3  0.976092     4.5   215644  ...        0.904369           1           15\n",
              "4  0.980874     4.3      967  ...        0.976092           1           10\n",
              "\n",
              "[5 rows x 10 columns]"
            ]
          },
          "metadata": {
            "tags": []
          },
          "execution_count": 116
        }
      ]
    },
    {
      "cell_type": "code",
      "metadata": {
        "id": "jy6gCqDnub8o",
        "outputId": "95b87f51-bb4b-4e79-c14b-c1ac2979b134",
        "colab": {
          "base_uri": "https://localhost:8080/",
          "height": 34
        }
      },
      "source": [
        "X_cat = catenc_dummy.drop(columns = ['Rating_cat','Rating'],axis=1)\n",
        "y_cat = catenc_dummy.loc[:,'Rating_cat']\n",
        "X_cat.shape , y_cat.shape"
      ],
      "execution_count": null,
      "outputs": [
        {
          "output_type": "execute_result",
          "data": {
            "text/plain": [
              "((7027, 8), (7027,))"
            ]
          },
          "metadata": {
            "tags": []
          },
          "execution_count": 128
        }
      ]
    },
    {
      "cell_type": "code",
      "metadata": {
        "id": "qYchXnp1v4rj",
        "outputId": "35f66675-5de8-4a4a-8c42-1df404f0831d",
        "colab": {
          "base_uri": "https://localhost:8080/",
          "height": 111
        }
      },
      "source": [
        "X_cat.head(2)"
      ],
      "execution_count": null,
      "outputs": [
        {
          "output_type": "execute_result",
          "data": {
            "text/html": [
              "<div>\n",
              "<style scoped>\n",
              "    .dataframe tbody tr th:only-of-type {\n",
              "        vertical-align: middle;\n",
              "    }\n",
              "\n",
              "    .dataframe tbody tr th {\n",
              "        vertical-align: top;\n",
              "    }\n",
              "\n",
              "    .dataframe thead th {\n",
              "        text-align: right;\n",
              "    }\n",
              "</style>\n",
              "<table border=\"1\" class=\"dataframe\">\n",
              "  <thead>\n",
              "    <tr style=\"text-align: right;\">\n",
              "      <th></th>\n",
              "      <th>Category</th>\n",
              "      <th>Reviews</th>\n",
              "      <th>Size</th>\n",
              "      <th>Installs</th>\n",
              "      <th>Type</th>\n",
              "      <th>Price</th>\n",
              "      <th>Content Rating</th>\n",
              "      <th>Install_cat</th>\n",
              "    </tr>\n",
              "  </thead>\n",
              "  <tbody>\n",
              "    <tr>\n",
              "      <th>0</th>\n",
              "      <td>0.904369</td>\n",
              "      <td>159</td>\n",
              "      <td>19000.0</td>\n",
              "      <td>10000</td>\n",
              "      <td>0.904369</td>\n",
              "      <td>0.0</td>\n",
              "      <td>0.904369</td>\n",
              "      <td>8</td>\n",
              "    </tr>\n",
              "    <tr>\n",
              "      <th>1</th>\n",
              "      <td>0.952184</td>\n",
              "      <td>967</td>\n",
              "      <td>14000.0</td>\n",
              "      <td>500000</td>\n",
              "      <td>0.952184</td>\n",
              "      <td>0.0</td>\n",
              "      <td>0.952184</td>\n",
              "      <td>11</td>\n",
              "    </tr>\n",
              "  </tbody>\n",
              "</table>\n",
              "</div>"
            ],
            "text/plain": [
              "   Category  Reviews     Size  ...  Price  Content Rating  Install_cat\n",
              "0  0.904369      159  19000.0  ...    0.0        0.904369            8\n",
              "1  0.952184      967  14000.0  ...    0.0        0.952184           11\n",
              "\n",
              "[2 rows x 8 columns]"
            ]
          },
          "metadata": {
            "tags": []
          },
          "execution_count": 129
        }
      ]
    },
    {
      "cell_type": "code",
      "metadata": {
        "id": "rq3hbWUO1lat",
        "outputId": "2b99e078-a07c-4065-e948-2483a89f52cf",
        "colab": {
          "base_uri": "https://localhost:8080/",
          "height": 68
        }
      },
      "source": [
        "y_cat.head(2)"
      ],
      "execution_count": null,
      "outputs": [
        {
          "output_type": "execute_result",
          "data": {
            "text/plain": [
              "0    1\n",
              "1    1\n",
              "Name: Rating_cat, dtype: int64"
            ]
          },
          "metadata": {
            "tags": []
          },
          "execution_count": 130
        }
      ]
    },
    {
      "cell_type": "code",
      "metadata": {
        "id": "EG0wJfYs5jgq"
      },
      "source": [
        "X_train,X_test,Y_train,Y_test = train_test_split(X_cat,y_cat,test_size=0.3,random_state = 14,stratify=y_cat)"
      ],
      "execution_count": null,
      "outputs": []
    },
    {
      "cell_type": "code",
      "metadata": {
        "id": "jPOOikN62HMy"
      },
      "source": [
        "\n",
        "\n",
        "# dummy score function\n",
        "def dummy_model_building(model):\n",
        "  from sklearn.metrics import classification_report , confusion_matrix\n",
        "  model.fit(x_train,y_train)\n",
        "  print('trained')\n",
        "  train_score = model.score(x_train , y_train)\n",
        "  test_score = model.score(x_test , y_test)\n",
        "  predict = model.predict(x_test)\n",
        "\n",
        "  print('Train Score on Dummy : {}'.format(train_score))\n",
        "  print('Test Score on Dummy : {}'.format(test_score))\n",
        "  print(confusion_matrix(y_test, predict))\n",
        "  print(classification_report(y_test, predict))\n",
        "\n",
        "  print('\\n \\n')\n",
        "  \n",
        "  try:\n",
        "    features = X_dummy.columns[:10]\n",
        "    importances = model.feature_importances_[:10]\n",
        "    indices = np.argsort(importances)\n",
        "\n",
        "    plt.title('Feature Importances')\n",
        "    plt.barh(range(len(indices)), importances[indices], color='b', align='center')\n",
        "    plt.yticks(range(len(indices)), [features[i] for i in indices])\n",
        "    plt.xlabel('Relative Importance')\n",
        "    plt.show()\n",
        "  except :\n",
        "    print('This model does not support Feature Selection')\n",
        "\n",
        "# dummy score function\n",
        "def cat_model_building(model):\n",
        "\n",
        "  model.fit(X_train,Y_train)\n",
        "  train_score_ = model.score(X_train , Y_train)\n",
        "  test_score_ = model.score(X_test , Y_test)\n",
        "  predict_ = model.predict(X_test)\n",
        "\n",
        "  print('Train Score on Cat_encode : {}'.format(train_score_))\n",
        "  print('Test Score on Cat_encode : {}'.format(test_score_))\n",
        "  print(confusion_matrix(Y_test, predict_))\n",
        "  print(classification_report(Y_test, predict_))\n",
        "\n",
        "  print('\\n \\n')\n",
        "  \n",
        "  try:\n",
        "    features = X_cat.columns\n",
        "    importances = model.feature_importances_\n",
        "    indices = np.argsort(importances)\n",
        "\n",
        "    plt.title('Feature Importances')\n",
        "    plt.barh(range(len(indices)), importances[indices], color='b', align='center')\n",
        "    plt.yticks(range(len(indices)), [features[i] for i in indices])\n",
        "    plt.xlabel('Relative Importance')\n",
        "    plt.show()\n",
        "  except :\n",
        "    print('This model does not support Feature Selection')\n"
      ],
      "execution_count": null,
      "outputs": []
    },
    {
      "cell_type": "code",
      "metadata": {
        "id": "abbri8H44I2o",
        "outputId": "0c182ec0-4047-4d99-9581-a7ee143135aa",
        "colab": {
          "base_uri": "https://localhost:8080/",
          "height": 1000
        }
      },
      "source": [
        "# Decision Tree\n",
        "from sklearn.tree import DecisionTreeClassifier\n",
        "\n",
        "dt = DecisionTreeClassifier()\n",
        "dummy_model_building(dt)\n",
        "print('\\n')\n",
        "cat_model_building(dt)"
      ],
      "execution_count": null,
      "outputs": [
        {
          "output_type": "stream",
          "text": [
            "trained\n",
            "Train Score on Dummy : 0.9997966653111021\n",
            "Test Score on Dummy : 0.8544333807491702\n",
            "[[1758  149]\n",
            " [ 158   44]]\n",
            "              precision    recall  f1-score   support\n",
            "\n",
            "           0       0.92      0.92      0.92      1907\n",
            "           1       0.23      0.22      0.22       202\n",
            "\n",
            "    accuracy                           0.85      2109\n",
            "   macro avg       0.57      0.57      0.57      2109\n",
            "weighted avg       0.85      0.85      0.85      2109\n",
            "\n",
            "\n",
            " \n",
            "\n"
          ],
          "name": "stdout"
        },
        {
          "output_type": "display_data",
          "data": {
            "image/png": "[encoded data removed]",
            "text/plain": [
              "<Figure size 432x288 with 1 Axes>"
            ]
          },
          "metadata": {
            "tags": []
          }
        },
        {
          "output_type": "stream",
          "text": [
            "\n",
            "\n",
            "Train Score on Cat_encode : 1.0\n",
            "Test Score on Cat_encode : 0.8468468468468469\n",
            "[[  36  166]\n",
            " [ 157 1750]]\n",
            "              precision    recall  f1-score   support\n",
            "\n",
            "           0       0.19      0.18      0.18       202\n",
            "           1       0.91      0.92      0.92      1907\n",
            "\n",
            "    accuracy                           0.85      2109\n",
            "   macro avg       0.55      0.55      0.55      2109\n",
            "weighted avg       0.84      0.85      0.85      2109\n",
            "\n",
            "\n",
            " \n",
            "\n"
          ],
          "name": "stdout"
        },
        {
          "output_type": "display_data",
          "data": {
            "image/png": "[encoded data removed]",
            "text/plain": [
              "<Figure size 432x288 with 1 Axes>"
            ]
          },
          "metadata": {
            "tags": []
          }
        }
      ]
    },
    {
      "cell_type": "code",
      "metadata": {
        "id": "caMuaQmi6Lcy",
        "outputId": "02574e6c-5ad9-4001-fc77-c2d7dcfcf070",
        "colab": {
          "base_uri": "https://localhost:8080/",
          "height": 1000
        }
      },
      "source": [
        "# RandomForestClassifier\n",
        "from sklearn.ensemble import RandomForestClassifier\n",
        "rf = RandomForestClassifier()\n",
        "dummy_model_building(rf)\n",
        "print('\\n')\n",
        "cat_model_building(rf)\n"
      ],
      "execution_count": null,
      "outputs": [
        {
          "output_type": "stream",
          "text": [
            "trained\n",
            "Train Score on Dummy : 0.9997966653111021\n",
            "Test Score on Dummy : 0.8933143669985776\n",
            "[[1868   39]\n",
            " [ 186   16]]\n",
            "              precision    recall  f1-score   support\n",
            "\n",
            "           0       0.91      0.98      0.94      1907\n",
            "           1       0.29      0.08      0.12       202\n",
            "\n",
            "    accuracy                           0.89      2109\n",
            "   macro avg       0.60      0.53      0.53      2109\n",
            "weighted avg       0.85      0.89      0.86      2109\n",
            "\n",
            "\n",
            " \n",
            "\n"
          ],
          "name": "stdout"
        },
        {
          "output_type": "display_data",
          "data": {
            "image/png": "[encoded data removed]",
            "text/plain": [
              "<Figure size 432x288 with 1 Axes>"
            ]
          },
          "metadata": {
            "tags": []
          }
        },
        {
          "output_type": "stream",
          "text": [
            "\n",
            "\n",
            "Train Score on Cat_encode : 1.0\n",
            "Test Score on Cat_encode : 0.9009009009009009\n",
            "[[   6  196]\n",
            " [  13 1894]]\n",
            "              precision    recall  f1-score   support\n",
            "\n",
            "           0       0.32      0.03      0.05       202\n",
            "           1       0.91      0.99      0.95      1907\n",
            "\n",
            "    accuracy                           0.90      2109\n",
            "   macro avg       0.61      0.51      0.50      2109\n",
            "weighted avg       0.85      0.90      0.86      2109\n",
            "\n",
            "\n",
            " \n",
            "\n"
          ],
          "name": "stdout"
        },
        {
          "output_type": "display_data",
          "data": {
            "image/png": "[encoded data removed]",
            "text/plain": [
              "<Figure size 432x288 with 1 Axes>"
            ]
          },
          "metadata": {
            "tags": []
          }
        }
      ]
    },
    {
      "cell_type": "code",
      "metadata": {
        "id": "M5W8EMtz8lLk",
        "outputId": "0e7465dd-0313-4d02-b406-62018be384cb",
        "colab": {
          "base_uri": "https://localhost:8080/",
          "height": 646
        }
      },
      "source": [
        "# Bagging Classifier\n",
        "from sklearn.ensemble import BaggingClassifier\n",
        "\n",
        "bc = BaggingClassifier()\n",
        "dummy_model_building(bc)\n",
        "print('\\n')\n",
        "cat_model_building(bc)\n"
      ],
      "execution_count": null,
      "outputs": [
        {
          "output_type": "stream",
          "text": [
            "trained\n",
            "Train Score on Dummy : 0.9843432289548597\n",
            "Test Score on Dummy : 0.8871503082029398\n",
            "[[1855   52]\n",
            " [ 186   16]]\n",
            "              precision    recall  f1-score   support\n",
            "\n",
            "           0       0.91      0.97      0.94      1907\n",
            "           1       0.24      0.08      0.12       202\n",
            "\n",
            "    accuracy                           0.89      2109\n",
            "   macro avg       0.57      0.53      0.53      2109\n",
            "weighted avg       0.84      0.89      0.86      2109\n",
            "\n",
            "\n",
            " \n",
            "\n",
            "This model does not support Feature Selection\n",
            "\n",
            "\n",
            "Train Score on Cat_encode : 0.9936966246441643\n",
            "Test Score on Cat_encode : 0.8857278330962541\n",
            "[[  27  175]\n",
            " [  66 1841]]\n",
            "              precision    recall  f1-score   support\n",
            "\n",
            "           0       0.29      0.13      0.18       202\n",
            "           1       0.91      0.97      0.94      1907\n",
            "\n",
            "    accuracy                           0.89      2109\n",
            "   macro avg       0.60      0.55      0.56      2109\n",
            "weighted avg       0.85      0.89      0.87      2109\n",
            "\n",
            "\n",
            " \n",
            "\n",
            "This model does not support Feature Selection\n"
          ],
          "name": "stdout"
        }
      ]
    },
    {
      "cell_type": "code",
      "metadata": {
        "id": "RdzDDH7GFwRU",
        "outputId": "eb0138d1-3ba5-44b4-dfb1-7c97f7f5ec80",
        "colab": {
          "base_uri": "https://localhost:8080/",
          "height": 1000
        }
      },
      "source": [
        "# Gradient Boosting\n",
        "from sklearn.ensemble import GradientBoostingClassifier\n",
        "\n",
        "gc = GradientBoostingClassifier()\n",
        "dummy_model_building(gc)\n",
        "print('\\n')\n",
        "cat_model_building(gc)"
      ],
      "execution_count": null,
      "outputs": [
        {
          "output_type": "stream",
          "text": [
            "trained\n",
            "Train Score on Dummy : 0.9095160634404229\n",
            "Test Score on Dummy : 0.9023233760075865\n",
            "[[1901    6]\n",
            " [ 200    2]]\n",
            "              precision    recall  f1-score   support\n",
            "\n",
            "           0       0.90      1.00      0.95      1907\n",
            "           1       0.25      0.01      0.02       202\n",
            "\n",
            "    accuracy                           0.90      2109\n",
            "   macro avg       0.58      0.50      0.48      2109\n",
            "weighted avg       0.84      0.90      0.86      2109\n",
            "\n",
            "\n",
            " \n",
            "\n"
          ],
          "name": "stdout"
        },
        {
          "output_type": "display_data",
          "data": {
            "image/png": "[encoded data removed]",
            "text/plain": [
              "<Figure size 432x288 with 1 Axes>"
            ]
          },
          "metadata": {
            "tags": []
          }
        },
        {
          "output_type": "stream",
          "text": [
            "\n",
            "\n",
            "Train Score on Cat_encode : 0.909109394062627\n",
            "Test Score on Cat_encode : 0.9013750592697961\n",
            "[[   0  202]\n",
            " [   6 1901]]\n",
            "              precision    recall  f1-score   support\n",
            "\n",
            "           0       0.00      0.00      0.00       202\n",
            "           1       0.90      1.00      0.95      1907\n",
            "\n",
            "    accuracy                           0.90      2109\n",
            "   macro avg       0.45      0.50      0.47      2109\n",
            "weighted avg       0.82      0.90      0.86      2109\n",
            "\n",
            "\n",
            " \n",
            "\n"
          ],
          "name": "stdout"
        },
        {
          "output_type": "display_data",
          "data": {
            "image/png": "[encoded data removed]",
            "text/plain": [
              "<Figure size 432x288 with 1 Axes>"
            ]
          },
          "metadata": {
            "tags": []
          }
        }
      ]
    },
    {
      "cell_type": "code",
      "metadata": {
        "id": "EDgiU9RfHLB0",
        "outputId": "a9cf1c6f-f42d-4cda-f2cb-4cc9ce36dbdd",
        "colab": {
          "base_uri": "https://localhost:8080/",
          "height": 1000
        }
      },
      "source": [
        "# AdaBoosting\n",
        "from sklearn.ensemble import AdaBoostClassifier\n",
        "\n",
        "ac = AdaBoostClassifier()\n",
        "dummy_model_building(ac)\n",
        "print('\\n')\n",
        "cat_model_building(ac)\n"
      ],
      "execution_count": null,
      "outputs": [
        {
          "output_type": "stream",
          "text": [
            "trained\n",
            "Train Score on Dummy : 0.9046360309068727\n",
            "Test Score on Dummy : 0.903271692745377\n",
            "[[1904    3]\n",
            " [ 201    1]]\n",
            "              precision    recall  f1-score   support\n",
            "\n",
            "           0       0.90      1.00      0.95      1907\n",
            "           1       0.25      0.00      0.01       202\n",
            "\n",
            "    accuracy                           0.90      2109\n",
            "   macro avg       0.58      0.50      0.48      2109\n",
            "weighted avg       0.84      0.90      0.86      2109\n",
            "\n",
            "\n",
            " \n",
            "\n"
          ],
          "name": "stdout"
        },
        {
          "output_type": "display_data",
          "data": {
            "image/png": "[encoded data removed]",
            "text/plain": [
              "<Figure size 432x288 with 1 Axes>"
            ]
          },
          "metadata": {
            "tags": []
          }
        },
        {
          "output_type": "stream",
          "text": [
            "\n",
            "\n",
            "Train Score on Cat_encode : 0.9044326962179748\n",
            "Test Score on Cat_encode : 0.9027975343764817\n",
            "[[   0  202]\n",
            " [   3 1904]]\n",
            "              precision    recall  f1-score   support\n",
            "\n",
            "           0       0.00      0.00      0.00       202\n",
            "           1       0.90      1.00      0.95      1907\n",
            "\n",
            "    accuracy                           0.90      2109\n",
            "   macro avg       0.45      0.50      0.47      2109\n",
            "weighted avg       0.82      0.90      0.86      2109\n",
            "\n",
            "\n",
            " \n",
            "\n"
          ],
          "name": "stdout"
        },
        {
          "output_type": "display_data",
          "data": {
            "image/png": "[encoded data removed]",
            "text/plain": [
              "<Figure size 432x288 with 1 Axes>"
            ]
          },
          "metadata": {
            "tags": []
          }
        }
      ]
    },
    {
      "cell_type": "code",
      "metadata": {
        "id": "BJ5dlSncHqdu",
        "outputId": "1ade9517-f606-4e79-d728-40deac01a259",
        "colab": {
          "base_uri": "https://localhost:8080/",
          "height": 646
        }
      },
      "source": [
        "# Stacking\n",
        "from sklearn.ensemble import StackingClassifier\n",
        "estimators = [('decisiontree', dt), ('randomforest', rf), ('bagging', bc), ('gradientboost', gc), ('Ada Boost', ac)]\n",
        "sc = StackingClassifier(estimators)\n",
        "dummy_model_building(sc)\n",
        "print('\\n')\n",
        "cat_model_building(sc)\n"
      ],
      "execution_count": null,
      "outputs": [
        {
          "output_type": "stream",
          "text": [
            "trained\n",
            "Train Score on Dummy : 0.9131760878405856\n",
            "Test Score on Dummy : 0.9027975343764817\n",
            "[[1901    6]\n",
            " [ 199    3]]\n",
            "              precision    recall  f1-score   support\n",
            "\n",
            "           0       0.91      1.00      0.95      1907\n",
            "           1       0.33      0.01      0.03       202\n",
            "\n",
            "    accuracy                           0.90      2109\n",
            "   macro avg       0.62      0.51      0.49      2109\n",
            "weighted avg       0.85      0.90      0.86      2109\n",
            "\n",
            "\n",
            " \n",
            "\n",
            "This model does not support Feature Selection\n",
            "\n",
            "\n",
            "Train Score on Cat_encode : 0.9664497763318423\n",
            "Test Score on Cat_encode : 0.9042200094831674\n",
            "[[   4  198]\n",
            " [   4 1903]]\n",
            "              precision    recall  f1-score   support\n",
            "\n",
            "           0       0.50      0.02      0.04       202\n",
            "           1       0.91      1.00      0.95      1907\n",
            "\n",
            "    accuracy                           0.90      2109\n",
            "   macro avg       0.70      0.51      0.49      2109\n",
            "weighted avg       0.87      0.90      0.86      2109\n",
            "\n",
            "\n",
            " \n",
            "\n",
            "This model does not support Feature Selection\n"
          ],
          "name": "stdout"
        }
      ]
    },
    {
      "cell_type": "markdown",
      "metadata": {
        "id": "aCB0xX1oJGKq"
      },
      "source": [
        "# Conclusion:\n",
        "1. Number of Reviews is contributing the most in predicting rating\n",
        "2. Most of the ensemble models are biased toward majority class\n",
        "3. Models are overfitting the trainning set\n",
        "4. Ensemble models are able to predict with an accuarcy of 90%. However, we need to balance the class in order to improve the precision for minority class"
      ]
    },
    {
      "cell_type": "code",
      "metadata": {
        "id": "Mg69p1WvIDWT"
      },
      "source": [
        "# SMOTE for data imbalance\n",
        "from imblearn.over_sampling import SMOTE\n",
        "sm = SMOTE(random_state=42)\n",
        "X_res, y_res = sm.fit_resample(X_dummy, y_dummy)"
      ],
      "execution_count": null,
      "outputs": []
    },
    {
      "cell_type": "code",
      "metadata": {
        "id": "kLN2JCWYMoDY"
      },
      "source": [
        "x_train_sm,x_test_sm,y_train_sm,y_test_sm = train_test_split(X_res,y_res,test_size=0.3,random_state = 14,stratify=y_res)"
      ],
      "execution_count": null,
      "outputs": []
    },
    {
      "cell_type": "code",
      "metadata": {
        "id": "J90a22y6LbaZ",
        "outputId": "43bb0bcf-0c4b-46bd-ee03-6b32ce0188e2",
        "colab": {
          "base_uri": "https://localhost:8080/",
          "height": 51
        }
      },
      "source": [
        "rf1 = RandomForestClassifier()\n",
        "rf1.fit(x_train_sm,y_train_sm)\n",
        "print('Train :{}'.format(rf1.score(x_train_sm,y_train_sm)))\n",
        "print('Test :{}'.format(rf1.score(x_test_sm,y_test_sm)))"
      ],
      "execution_count": null,
      "outputs": [
        {
          "output_type": "stream",
          "text": [
            "Train :0.9997752051253231\n",
            "Test :0.9362706530291109\n"
          ],
          "name": "stdout"
        }
      ]
    },
    {
      "cell_type": "code",
      "metadata": {
        "id": "N_HR25GwNx4J",
        "outputId": "57449ebc-0de8-41e6-b283-7ac98873223a",
        "colab": {
          "base_uri": "https://localhost:8080/",
          "height": 51
        }
      },
      "source": [
        "gb = GradientBoostingClassifier()\n",
        "gb.fit(x_train_sm,y_train_sm)\n",
        "print('Train :{}'.format(gb.score(x_train_sm,y_train_sm)))\n",
        "print('Test :{}'.format(gb.score(x_test_sm,y_test_sm)))"
      ],
      "execution_count": null,
      "outputs": [
        {
          "output_type": "stream",
          "text": [
            "Train :0.9153647296841632\n",
            "Test :0.9079464988198269\n"
          ],
          "name": "stdout"
        }
      ]
    },
    {
      "cell_type": "code",
      "metadata": {
        "id": "77LhAkfhNLQF",
        "outputId": "fda00d71-10ab-4e91-ca57-e887485486bc",
        "colab": {
          "base_uri": "https://localhost:8080/",
          "height": 51
        }
      },
      "source": [
        "sc1 = StackingClassifier(estimators)\n",
        "sc1.fit(x_train_sm,y_train_sm)\n",
        "print('Train :{}'.format(sc1.score(x_train_sm,y_train_sm)))\n",
        "print('Test :{}'.format(sc1.score(x_test_sm,y_test_sm)))"
      ],
      "execution_count": null,
      "outputs": [
        {
          "output_type": "stream",
          "text": [
            "Train :0.9957288973811397\n",
            "Test :0.9367951744033569\n"
          ],
          "name": "stdout"
        }
      ]
    },
    {
      "cell_type": "code",
      "metadata": {
        "id": "ni5cBWoFNln_"
      },
      "source": [
        ""
      ],
      "execution_count": null,
      "outputs": []
    },
    {
      "cell_type": "markdown",
      "metadata": {
        "id": "I0MAw9aZN88h"
      },
      "source": [
        "After Balancing the class with SMOTE, the accuracy has increased by 3%."
      ]
    },
    {
      "cell_type": "code",
      "metadata": {
        "id": "yqKUhUvKOS2p"
      },
      "source": [
        ""
      ],
      "execution_count": null,
      "outputs": []
    }
  ]
}